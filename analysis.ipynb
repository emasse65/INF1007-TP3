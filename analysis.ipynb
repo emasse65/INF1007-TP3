{
 "cells": [
  {
   "cell_type": "markdown",
   "metadata": {},
   "source": [
    "## Imports"
   ]
  },
  {
   "cell_type": "code",
   "execution_count": 4,
   "metadata": {},
   "outputs": [],
   "source": [
    "import seaborn as sns\n",
    "import matplotlib.pyplot as plt\n",
    "import plotly.express as px\n",
    "import plotly.graph_objects as go\n",
    "from plotly.subplots import make_subplots\n",
    "import pandas as pd"
   ]
  },
  {
   "cell_type": "code",
   "execution_count": 5,
   "metadata": {},
   "outputs": [],
   "source": [
    "# TODO: \n",
    "\n",
    "__authors__ = \"Monika LUksza (2347018), Estelle Masse (2344004), Sara-Maude Brochu ()\"\n",
    "__equipe__ = \"L01-12\""
   ]
  },
  {
   "cell_type": "markdown",
   "metadata": {},
   "source": [
    "## Préparation du dataset"
   ]
  },
  {
   "cell_type": "markdown",
   "metadata": {},
   "source": [
    "### 1.0 Chargement des données"
   ]
  },
  {
   "cell_type": "code",
   "execution_count": 17,
   "metadata": {},
   "outputs": [],
   "source": [
    "from constants import DATA_PATH\n",
    "\n",
    "def create_pokedex() -> pd.DataFrame:\n",
    "    \"\"\" \n",
    "    Lire le fichier csv dans DATA_PATH et retourner un DataFrame contenant les données du fichier csv.\n",
    "\n",
    "    @return: DataFrame contenant les données du fichier csv.\n",
    "    \"\"\"\n",
    "    pokedex_read = pd.read_csv(DATA_PATH)\n",
    "    return pokedex_read\n",
    "    pass"
   ]
  },
  {
   "cell_type": "code",
   "execution_count": 18,
   "metadata": {},
   "outputs": [
    {
     "data": {
      "text/html": [
       "<div>\n",
       "<style scoped>\n",
       "    .dataframe tbody tr th:only-of-type {\n",
       "        vertical-align: middle;\n",
       "    }\n",
       "\n",
       "    .dataframe tbody tr th {\n",
       "        vertical-align: top;\n",
       "    }\n",
       "\n",
       "    .dataframe thead th {\n",
       "        text-align: right;\n",
       "    }\n",
       "</style>\n",
       "<table border=\"1\" class=\"dataframe\">\n",
       "  <thead>\n",
       "    <tr style=\"text-align: right;\">\n",
       "      <th></th>\n",
       "      <th>abilities</th>\n",
       "      <th>against_bug</th>\n",
       "      <th>against_dark</th>\n",
       "      <th>against_dragon</th>\n",
       "      <th>against_electric</th>\n",
       "      <th>against_fairy</th>\n",
       "      <th>against_fight</th>\n",
       "      <th>against_fire</th>\n",
       "      <th>against_flying</th>\n",
       "      <th>against_ghost</th>\n",
       "      <th>...</th>\n",
       "      <th>percentage_male</th>\n",
       "      <th>pokedex_number</th>\n",
       "      <th>sp_attack</th>\n",
       "      <th>sp_defense</th>\n",
       "      <th>speed</th>\n",
       "      <th>type1</th>\n",
       "      <th>type2</th>\n",
       "      <th>weight_kg</th>\n",
       "      <th>generation</th>\n",
       "      <th>is_legendary</th>\n",
       "    </tr>\n",
       "  </thead>\n",
       "  <tbody>\n",
       "    <tr>\n",
       "      <th>0</th>\n",
       "      <td>['Overgrow', 'Chlorophyll']</td>\n",
       "      <td>1.00</td>\n",
       "      <td>1.0</td>\n",
       "      <td>1.0</td>\n",
       "      <td>0.5</td>\n",
       "      <td>0.5</td>\n",
       "      <td>0.5</td>\n",
       "      <td>2.0</td>\n",
       "      <td>2.0</td>\n",
       "      <td>1.0</td>\n",
       "      <td>...</td>\n",
       "      <td>88.1</td>\n",
       "      <td>1</td>\n",
       "      <td>65.0</td>\n",
       "      <td>65</td>\n",
       "      <td>45</td>\n",
       "      <td>grass</td>\n",
       "      <td>poison</td>\n",
       "      <td>6.9</td>\n",
       "      <td>1.0</td>\n",
       "      <td>0.0</td>\n",
       "    </tr>\n",
       "    <tr>\n",
       "      <th>1</th>\n",
       "      <td>['Overgrow', 'Chlorophyll']</td>\n",
       "      <td>1.00</td>\n",
       "      <td>1.0</td>\n",
       "      <td>1.0</td>\n",
       "      <td>0.5</td>\n",
       "      <td>0.5</td>\n",
       "      <td>0.5</td>\n",
       "      <td>2.0</td>\n",
       "      <td>2.0</td>\n",
       "      <td>1.0</td>\n",
       "      <td>...</td>\n",
       "      <td>88.1</td>\n",
       "      <td>2</td>\n",
       "      <td>80.0</td>\n",
       "      <td>80</td>\n",
       "      <td>60</td>\n",
       "      <td>grass</td>\n",
       "      <td>poison</td>\n",
       "      <td>13.0</td>\n",
       "      <td>1.0</td>\n",
       "      <td>0.0</td>\n",
       "    </tr>\n",
       "    <tr>\n",
       "      <th>2</th>\n",
       "      <td>['Overgrow', 'Chlorophyll']</td>\n",
       "      <td>1.00</td>\n",
       "      <td>1.0</td>\n",
       "      <td>1.0</td>\n",
       "      <td>0.5</td>\n",
       "      <td>0.5</td>\n",
       "      <td>0.5</td>\n",
       "      <td>2.0</td>\n",
       "      <td>2.0</td>\n",
       "      <td>1.0</td>\n",
       "      <td>...</td>\n",
       "      <td>88.1</td>\n",
       "      <td>3</td>\n",
       "      <td>122.0</td>\n",
       "      <td>120</td>\n",
       "      <td>80</td>\n",
       "      <td>grass</td>\n",
       "      <td>poison</td>\n",
       "      <td>100.0</td>\n",
       "      <td>1.0</td>\n",
       "      <td>0.0</td>\n",
       "    </tr>\n",
       "    <tr>\n",
       "      <th>3</th>\n",
       "      <td>['Blaze', 'Solar Power']</td>\n",
       "      <td>0.50</td>\n",
       "      <td>1.0</td>\n",
       "      <td>1.0</td>\n",
       "      <td>1.0</td>\n",
       "      <td>0.5</td>\n",
       "      <td>1.0</td>\n",
       "      <td>0.5</td>\n",
       "      <td>1.0</td>\n",
       "      <td>1.0</td>\n",
       "      <td>...</td>\n",
       "      <td>88.1</td>\n",
       "      <td>4</td>\n",
       "      <td>60.0</td>\n",
       "      <td>50</td>\n",
       "      <td>65</td>\n",
       "      <td>fire</td>\n",
       "      <td>NaN</td>\n",
       "      <td>8.5</td>\n",
       "      <td>1.0</td>\n",
       "      <td>0.0</td>\n",
       "    </tr>\n",
       "    <tr>\n",
       "      <th>4</th>\n",
       "      <td>['Blaze', 'Solar Power']</td>\n",
       "      <td>0.50</td>\n",
       "      <td>1.0</td>\n",
       "      <td>1.0</td>\n",
       "      <td>1.0</td>\n",
       "      <td>0.5</td>\n",
       "      <td>1.0</td>\n",
       "      <td>0.5</td>\n",
       "      <td>1.0</td>\n",
       "      <td>1.0</td>\n",
       "      <td>...</td>\n",
       "      <td>88.1</td>\n",
       "      <td>5</td>\n",
       "      <td>80.0</td>\n",
       "      <td>65</td>\n",
       "      <td>80</td>\n",
       "      <td>fire</td>\n",
       "      <td>NaN</td>\n",
       "      <td>19.0</td>\n",
       "      <td>1.0</td>\n",
       "      <td>0.0</td>\n",
       "    </tr>\n",
       "    <tr>\n",
       "      <th>...</th>\n",
       "      <td>...</td>\n",
       "      <td>...</td>\n",
       "      <td>...</td>\n",
       "      <td>...</td>\n",
       "      <td>...</td>\n",
       "      <td>...</td>\n",
       "      <td>...</td>\n",
       "      <td>...</td>\n",
       "      <td>...</td>\n",
       "      <td>...</td>\n",
       "      <td>...</td>\n",
       "      <td>...</td>\n",
       "      <td>...</td>\n",
       "      <td>...</td>\n",
       "      <td>...</td>\n",
       "      <td>...</td>\n",
       "      <td>...</td>\n",
       "      <td>...</td>\n",
       "      <td>...</td>\n",
       "      <td>...</td>\n",
       "      <td>...</td>\n",
       "    </tr>\n",
       "    <tr>\n",
       "      <th>801</th>\n",
       "      <td>['Water Absorb', 'Strong Jaw']</td>\n",
       "      <td>0.50</td>\n",
       "      <td>NaN</td>\n",
       "      <td>1.0</td>\n",
       "      <td>0.5</td>\n",
       "      <td>0.5</td>\n",
       "      <td>1.0</td>\n",
       "      <td>2.0</td>\n",
       "      <td>0.5</td>\n",
       "      <td>NaN</td>\n",
       "      <td>...</td>\n",
       "      <td>80.0</td>\n",
       "      <td>901</td>\n",
       "      <td>130.0</td>\n",
       "      <td>110</td>\n",
       "      <td>NaN</td>\n",
       "      <td>water</td>\n",
       "      <td>dragon</td>\n",
       "      <td>45.5</td>\n",
       "      <td>8.0</td>\n",
       "      <td>NaN</td>\n",
       "    </tr>\n",
       "    <tr>\n",
       "      <th>802</th>\n",
       "      <td>['Rough Skin', 'Sand Rush']</td>\n",
       "      <td>0.25</td>\n",
       "      <td>0.5</td>\n",
       "      <td>NaN</td>\n",
       "      <td>1.0</td>\n",
       "      <td>NaN</td>\n",
       "      <td>1.0</td>\n",
       "      <td>NaN</td>\n",
       "      <td>0.5</td>\n",
       "      <td>1.0</td>\n",
       "      <td>...</td>\n",
       "      <td>NaN</td>\n",
       "      <td>902</td>\n",
       "      <td>NaN</td>\n",
       "      <td>100</td>\n",
       "      <td>55</td>\n",
       "      <td>ground</td>\n",
       "      <td>dragon</td>\n",
       "      <td>NaN</td>\n",
       "      <td>NaN</td>\n",
       "      <td>NaN</td>\n",
       "    </tr>\n",
       "    <tr>\n",
       "      <th>803</th>\n",
       "      <td>['Contrary', 'Suction Cups', 'Infiltrator']</td>\n",
       "      <td>4.00</td>\n",
       "      <td>1.0</td>\n",
       "      <td>1.0</td>\n",
       "      <td>1.0</td>\n",
       "      <td>2.0</td>\n",
       "      <td>1.0</td>\n",
       "      <td>1.0</td>\n",
       "      <td>1.0</td>\n",
       "      <td>1.0</td>\n",
       "      <td>...</td>\n",
       "      <td>50.0</td>\n",
       "      <td>687</td>\n",
       "      <td>68.0</td>\n",
       "      <td>75</td>\n",
       "      <td>73</td>\n",
       "      <td>dark</td>\n",
       "      <td>psychic</td>\n",
       "      <td>47.0</td>\n",
       "      <td>6.0</td>\n",
       "      <td>0.0</td>\n",
       "    </tr>\n",
       "    <tr>\n",
       "      <th>804</th>\n",
       "      <td>['Swift Swim', 'Storm Drain', 'Water Veil']</td>\n",
       "      <td>1.00</td>\n",
       "      <td>1.0</td>\n",
       "      <td>1.0</td>\n",
       "      <td>2.0</td>\n",
       "      <td>1.0</td>\n",
       "      <td>1.0</td>\n",
       "      <td>0.5</td>\n",
       "      <td>1.0</td>\n",
       "      <td>1.0</td>\n",
       "      <td>...</td>\n",
       "      <td>50.0</td>\n",
       "      <td>456</td>\n",
       "      <td>49.0</td>\n",
       "      <td>61</td>\n",
       "      <td>66</td>\n",
       "      <td>water</td>\n",
       "      <td>NaN</td>\n",
       "      <td>7.0</td>\n",
       "      <td>4.0</td>\n",
       "      <td>0.0</td>\n",
       "    </tr>\n",
       "    <tr>\n",
       "      <th>805</th>\n",
       "      <td>['Swarm', 'Shed Skin', 'No Guard']</td>\n",
       "      <td>1.00</td>\n",
       "      <td>1.0</td>\n",
       "      <td>1.0</td>\n",
       "      <td>1.0</td>\n",
       "      <td>1.0</td>\n",
       "      <td>0.5</td>\n",
       "      <td>2.0</td>\n",
       "      <td>2.0</td>\n",
       "      <td>1.0</td>\n",
       "      <td>...</td>\n",
       "      <td>50.0</td>\n",
       "      <td>588</td>\n",
       "      <td>40.0</td>\n",
       "      <td>45</td>\n",
       "      <td>60</td>\n",
       "      <td>bug</td>\n",
       "      <td>NaN</td>\n",
       "      <td>5.9</td>\n",
       "      <td>5.0</td>\n",
       "      <td>0.0</td>\n",
       "    </tr>\n",
       "  </tbody>\n",
       "</table>\n",
       "<p>806 rows × 41 columns</p>\n",
       "</div>"
      ],
      "text/plain": [
       "                                       abilities  against_bug  against_dark  \\\n",
       "0                    ['Overgrow', 'Chlorophyll']         1.00           1.0   \n",
       "1                    ['Overgrow', 'Chlorophyll']         1.00           1.0   \n",
       "2                    ['Overgrow', 'Chlorophyll']         1.00           1.0   \n",
       "3                       ['Blaze', 'Solar Power']         0.50           1.0   \n",
       "4                       ['Blaze', 'Solar Power']         0.50           1.0   \n",
       "..                                           ...          ...           ...   \n",
       "801               ['Water Absorb', 'Strong Jaw']         0.50           NaN   \n",
       "802                  ['Rough Skin', 'Sand Rush']         0.25           0.5   \n",
       "803  ['Contrary', 'Suction Cups', 'Infiltrator']         4.00           1.0   \n",
       "804  ['Swift Swim', 'Storm Drain', 'Water Veil']         1.00           1.0   \n",
       "805           ['Swarm', 'Shed Skin', 'No Guard']         1.00           1.0   \n",
       "\n",
       "     against_dragon  against_electric  against_fairy  against_fight  \\\n",
       "0               1.0               0.5            0.5            0.5   \n",
       "1               1.0               0.5            0.5            0.5   \n",
       "2               1.0               0.5            0.5            0.5   \n",
       "3               1.0               1.0            0.5            1.0   \n",
       "4               1.0               1.0            0.5            1.0   \n",
       "..              ...               ...            ...            ...   \n",
       "801             1.0               0.5            0.5            1.0   \n",
       "802             NaN               1.0            NaN            1.0   \n",
       "803             1.0               1.0            2.0            1.0   \n",
       "804             1.0               2.0            1.0            1.0   \n",
       "805             1.0               1.0            1.0            0.5   \n",
       "\n",
       "     against_fire  against_flying  against_ghost  ...  percentage_male  \\\n",
       "0             2.0             2.0            1.0  ...             88.1   \n",
       "1             2.0             2.0            1.0  ...             88.1   \n",
       "2             2.0             2.0            1.0  ...             88.1   \n",
       "3             0.5             1.0            1.0  ...             88.1   \n",
       "4             0.5             1.0            1.0  ...             88.1   \n",
       "..            ...             ...            ...  ...              ...   \n",
       "801           2.0             0.5            NaN  ...             80.0   \n",
       "802           NaN             0.5            1.0  ...              NaN   \n",
       "803           1.0             1.0            1.0  ...             50.0   \n",
       "804           0.5             1.0            1.0  ...             50.0   \n",
       "805           2.0             2.0            1.0  ...             50.0   \n",
       "\n",
       "     pokedex_number  sp_attack  sp_defense  speed   type1    type2  weight_kg  \\\n",
       "0                 1       65.0          65     45   grass   poison        6.9   \n",
       "1                 2       80.0          80     60   grass   poison       13.0   \n",
       "2                 3      122.0         120     80   grass   poison      100.0   \n",
       "3                 4       60.0          50     65    fire      NaN        8.5   \n",
       "4                 5       80.0          65     80    fire      NaN       19.0   \n",
       "..              ...        ...         ...    ...     ...      ...        ...   \n",
       "801             901      130.0         110    NaN   water   dragon       45.5   \n",
       "802             902        NaN         100     55  ground   dragon        NaN   \n",
       "803             687       68.0          75     73    dark  psychic       47.0   \n",
       "804             456       49.0          61     66   water      NaN        7.0   \n",
       "805             588       40.0          45     60     bug      NaN        5.9   \n",
       "\n",
       "     generation  is_legendary  \n",
       "0           1.0           0.0  \n",
       "1           1.0           0.0  \n",
       "2           1.0           0.0  \n",
       "3           1.0           0.0  \n",
       "4           1.0           0.0  \n",
       "..          ...           ...  \n",
       "801         8.0           NaN  \n",
       "802         NaN           NaN  \n",
       "803         6.0           0.0  \n",
       "804         4.0           0.0  \n",
       "805         5.0           0.0  \n",
       "\n",
       "[806 rows x 41 columns]"
      ]
     },
     "execution_count": 18,
     "metadata": {},
     "output_type": "execute_result"
    }
   ],
   "source": [
    "pokedex = create_pokedex()\n",
    "pokedex"
   ]
  },
  {
   "cell_type": "code",
   "execution_count": 19,
   "metadata": {},
   "outputs": [
    {
     "name": "stdout",
     "output_type": "stream",
     "text": [
      "                     abilities  against_bug  against_dark  against_dragon  \\\n",
      "0  ['Overgrow', 'Chlorophyll']          1.0           1.0             1.0   \n",
      "1  ['Overgrow', 'Chlorophyll']          1.0           1.0             1.0   \n",
      "2  ['Overgrow', 'Chlorophyll']          1.0           1.0             1.0   \n",
      "3     ['Blaze', 'Solar Power']          0.5           1.0             1.0   \n",
      "4     ['Blaze', 'Solar Power']          0.5           1.0             1.0   \n",
      "\n",
      "   against_electric  against_fairy  against_fight  against_fire  \\\n",
      "0               0.5            0.5            0.5           2.0   \n",
      "1               0.5            0.5            0.5           2.0   \n",
      "2               0.5            0.5            0.5           2.0   \n",
      "3               1.0            0.5            1.0           0.5   \n",
      "4               1.0            0.5            1.0           0.5   \n",
      "\n",
      "   against_flying  against_ghost  ...  percentage_male  pokedex_number  \\\n",
      "0             2.0            1.0  ...             88.1               1   \n",
      "1             2.0            1.0  ...             88.1               2   \n",
      "2             2.0            1.0  ...             88.1               3   \n",
      "3             1.0            1.0  ...             88.1               4   \n",
      "4             1.0            1.0  ...             88.1               5   \n",
      "\n",
      "   sp_attack  sp_defense  speed  type1   type2  weight_kg  generation  \\\n",
      "0       65.0          65     45  grass  poison        6.9         1.0   \n",
      "1       80.0          80     60  grass  poison       13.0         1.0   \n",
      "2      122.0         120     80  grass  poison      100.0         1.0   \n",
      "3       60.0          50     65   fire     NaN        8.5         1.0   \n",
      "4       80.0          65     80   fire     NaN       19.0         1.0   \n",
      "\n",
      "   is_legendary  \n",
      "0           0.0  \n",
      "1           0.0  \n",
      "2           0.0  \n",
      "3           0.0  \n",
      "4           0.0  \n",
      "\n",
      "[5 rows x 41 columns]\n"
     ]
    }
   ],
   "source": [
    "# TODO: Afficher les 5 premières lignes du DataFrame\n",
    "print(pokedex.head(5))"
   ]
  },
  {
   "cell_type": "markdown",
   "metadata": {
    "collapsed": false
   },
   "source": [
    "### 1.1 Suppression des colonnes non pertinentes"
   ]
  },
  {
   "cell_type": "code",
   "execution_count": 20,
   "metadata": {},
   "outputs": [],
   "source": [
    "def filter_columns(df: pd.DataFrame) -> None:\n",
    "    \"\"\"\n",
    "    Filtre les colonnes du DataFrame passé en paramètre pour ne garder que les colonnes utiles (voir README.md)\n",
    "    L'opération est faite inplace (le DataFrame est modifié directement sans être retourné).\n",
    "    \n",
    "    @param df: Le DataFrame à filtrer.\n",
    "    \"\"\"\n",
    "    Colonnes_a_pas_garder = ['abilities', 'against_bug', 'against_dark', 'against_dragon', 'against_electric', 'against_fairy', 'against_fight', 'against_fire', 'against_flying', 'against_ghost', 'against_grass', 'against_ground', 'against_ice', 'against_normal', 'against_poison', 'against_psychic', 'against_rock', 'against_steel', 'against_water', 'base_egg_steps', 'base_happiness', 'base_total', 'classfication', 'experience_growth', 'japanese_name', 'percentage_male', 'pokedex_number', 'sp_attack', 'sp_defense']\n",
    "    df.drop(Colonnes_a_pas_garder, axis=1, inplace=True)\n",
    "    pass"
   ]
  },
  {
   "cell_type": "code",
   "execution_count": 21,
   "metadata": {},
   "outputs": [
    {
     "data": {
      "text/html": [
       "<div>\n",
       "<style scoped>\n",
       "    .dataframe tbody tr th:only-of-type {\n",
       "        vertical-align: middle;\n",
       "    }\n",
       "\n",
       "    .dataframe tbody tr th {\n",
       "        vertical-align: top;\n",
       "    }\n",
       "\n",
       "    .dataframe thead th {\n",
       "        text-align: right;\n",
       "    }\n",
       "</style>\n",
       "<table border=\"1\" class=\"dataframe\">\n",
       "  <thead>\n",
       "    <tr style=\"text-align: right;\">\n",
       "      <th></th>\n",
       "      <th>attack</th>\n",
       "      <th>capture_rate</th>\n",
       "      <th>defense</th>\n",
       "      <th>height_m</th>\n",
       "      <th>hp</th>\n",
       "      <th>name</th>\n",
       "      <th>speed</th>\n",
       "      <th>type1</th>\n",
       "      <th>type2</th>\n",
       "      <th>weight_kg</th>\n",
       "      <th>generation</th>\n",
       "      <th>is_legendary</th>\n",
       "    </tr>\n",
       "  </thead>\n",
       "  <tbody>\n",
       "    <tr>\n",
       "      <th>0</th>\n",
       "      <td>49.0</td>\n",
       "      <td>45</td>\n",
       "      <td>49</td>\n",
       "      <td>0.7</td>\n",
       "      <td>45</td>\n",
       "      <td>Bulbasaur</td>\n",
       "      <td>45</td>\n",
       "      <td>grass</td>\n",
       "      <td>poison</td>\n",
       "      <td>6.9</td>\n",
       "      <td>1.0</td>\n",
       "      <td>0.0</td>\n",
       "    </tr>\n",
       "    <tr>\n",
       "      <th>1</th>\n",
       "      <td>62.0</td>\n",
       "      <td>45</td>\n",
       "      <td>63</td>\n",
       "      <td>1.0</td>\n",
       "      <td>60</td>\n",
       "      <td>Ivysaur</td>\n",
       "      <td>60</td>\n",
       "      <td>grass</td>\n",
       "      <td>poison</td>\n",
       "      <td>13.0</td>\n",
       "      <td>1.0</td>\n",
       "      <td>0.0</td>\n",
       "    </tr>\n",
       "    <tr>\n",
       "      <th>2</th>\n",
       "      <td>100.0</td>\n",
       "      <td>45</td>\n",
       "      <td>123</td>\n",
       "      <td>2.0</td>\n",
       "      <td>80</td>\n",
       "      <td>Venusaur</td>\n",
       "      <td>80</td>\n",
       "      <td>grass</td>\n",
       "      <td>poison</td>\n",
       "      <td>100.0</td>\n",
       "      <td>1.0</td>\n",
       "      <td>0.0</td>\n",
       "    </tr>\n",
       "    <tr>\n",
       "      <th>3</th>\n",
       "      <td>52.0</td>\n",
       "      <td>45</td>\n",
       "      <td>43</td>\n",
       "      <td>0.6</td>\n",
       "      <td>39</td>\n",
       "      <td>Charmander</td>\n",
       "      <td>65</td>\n",
       "      <td>fire</td>\n",
       "      <td>NaN</td>\n",
       "      <td>8.5</td>\n",
       "      <td>1.0</td>\n",
       "      <td>0.0</td>\n",
       "    </tr>\n",
       "    <tr>\n",
       "      <th>4</th>\n",
       "      <td>64.0</td>\n",
       "      <td>45</td>\n",
       "      <td>58</td>\n",
       "      <td>1.1</td>\n",
       "      <td>58</td>\n",
       "      <td>Charmeleon</td>\n",
       "      <td>80</td>\n",
       "      <td>fire</td>\n",
       "      <td>NaN</td>\n",
       "      <td>19.0</td>\n",
       "      <td>1.0</td>\n",
       "      <td>0.0</td>\n",
       "    </tr>\n",
       "    <tr>\n",
       "      <th>...</th>\n",
       "      <td>...</td>\n",
       "      <td>...</td>\n",
       "      <td>...</td>\n",
       "      <td>...</td>\n",
       "      <td>...</td>\n",
       "      <td>...</td>\n",
       "      <td>...</td>\n",
       "      <td>...</td>\n",
       "      <td>...</td>\n",
       "      <td>...</td>\n",
       "      <td>...</td>\n",
       "      <td>...</td>\n",
       "    </tr>\n",
       "    <tr>\n",
       "      <th>801</th>\n",
       "      <td>110.0</td>\n",
       "      <td>45</td>\n",
       "      <td>120</td>\n",
       "      <td>1.5</td>\n",
       "      <td>NaN</td>\n",
       "      <td>HydroFang</td>\n",
       "      <td>NaN</td>\n",
       "      <td>water</td>\n",
       "      <td>dragon</td>\n",
       "      <td>45.5</td>\n",
       "      <td>8.0</td>\n",
       "      <td>NaN</td>\n",
       "    </tr>\n",
       "    <tr>\n",
       "      <th>802</th>\n",
       "      <td>NaN</td>\n",
       "      <td>30</td>\n",
       "      <td>100</td>\n",
       "      <td>NaN</td>\n",
       "      <td>75</td>\n",
       "      <td>TerraClaw</td>\n",
       "      <td>55</td>\n",
       "      <td>ground</td>\n",
       "      <td>dragon</td>\n",
       "      <td>NaN</td>\n",
       "      <td>NaN</td>\n",
       "      <td>NaN</td>\n",
       "    </tr>\n",
       "    <tr>\n",
       "      <th>803</th>\n",
       "      <td>92.0</td>\n",
       "      <td>80</td>\n",
       "      <td>88</td>\n",
       "      <td>1.5</td>\n",
       "      <td>86</td>\n",
       "      <td>Malamar</td>\n",
       "      <td>73</td>\n",
       "      <td>dark</td>\n",
       "      <td>psychic</td>\n",
       "      <td>47.0</td>\n",
       "      <td>6.0</td>\n",
       "      <td>0.0</td>\n",
       "    </tr>\n",
       "    <tr>\n",
       "      <th>804</th>\n",
       "      <td>49.0</td>\n",
       "      <td>190</td>\n",
       "      <td>56</td>\n",
       "      <td>0.4</td>\n",
       "      <td>49</td>\n",
       "      <td>Finneon</td>\n",
       "      <td>66</td>\n",
       "      <td>water</td>\n",
       "      <td>NaN</td>\n",
       "      <td>7.0</td>\n",
       "      <td>4.0</td>\n",
       "      <td>0.0</td>\n",
       "    </tr>\n",
       "    <tr>\n",
       "      <th>805</th>\n",
       "      <td>75.0</td>\n",
       "      <td>200</td>\n",
       "      <td>45</td>\n",
       "      <td>0.5</td>\n",
       "      <td>50</td>\n",
       "      <td>Karrablast</td>\n",
       "      <td>60</td>\n",
       "      <td>bug</td>\n",
       "      <td>NaN</td>\n",
       "      <td>5.9</td>\n",
       "      <td>5.0</td>\n",
       "      <td>0.0</td>\n",
       "    </tr>\n",
       "  </tbody>\n",
       "</table>\n",
       "<p>806 rows × 12 columns</p>\n",
       "</div>"
      ],
      "text/plain": [
       "     attack capture_rate  defense  height_m   hp        name speed   type1  \\\n",
       "0      49.0           45       49       0.7   45   Bulbasaur    45   grass   \n",
       "1      62.0           45       63       1.0   60     Ivysaur    60   grass   \n",
       "2     100.0           45      123       2.0   80    Venusaur    80   grass   \n",
       "3      52.0           45       43       0.6   39  Charmander    65    fire   \n",
       "4      64.0           45       58       1.1   58  Charmeleon    80    fire   \n",
       "..      ...          ...      ...       ...  ...         ...   ...     ...   \n",
       "801   110.0           45      120       1.5  NaN   HydroFang   NaN   water   \n",
       "802     NaN           30      100       NaN   75   TerraClaw    55  ground   \n",
       "803    92.0           80       88       1.5   86     Malamar    73    dark   \n",
       "804    49.0          190       56       0.4   49     Finneon    66   water   \n",
       "805    75.0          200       45       0.5   50  Karrablast    60     bug   \n",
       "\n",
       "       type2  weight_kg  generation  is_legendary  \n",
       "0     poison        6.9         1.0           0.0  \n",
       "1     poison       13.0         1.0           0.0  \n",
       "2     poison      100.0         1.0           0.0  \n",
       "3        NaN        8.5         1.0           0.0  \n",
       "4        NaN       19.0         1.0           0.0  \n",
       "..       ...        ...         ...           ...  \n",
       "801   dragon       45.5         8.0           NaN  \n",
       "802   dragon        NaN         NaN           NaN  \n",
       "803  psychic       47.0         6.0           0.0  \n",
       "804      NaN        7.0         4.0           0.0  \n",
       "805      NaN        5.9         5.0           0.0  \n",
       "\n",
       "[806 rows x 12 columns]"
      ]
     },
     "execution_count": 21,
     "metadata": {},
     "output_type": "execute_result"
    }
   ],
   "source": [
    "filter_columns(pokedex)\n",
    "pokedex"
   ]
  },
  {
   "cell_type": "markdown",
   "metadata": {
    "collapsed": false
   },
   "source": [
    "### 1.2 Renommage des colonnes restantes\n"
   ]
  },
  {
   "cell_type": "code",
   "execution_count": 22,
   "metadata": {},
   "outputs": [],
   "source": [
    "def rename_columns(df: pd.DataFrame) -> None:\n",
    "    \"\"\"\n",
    "    Renomme les colonnes du DataFrame passé en paramètre pour les rendre plus lisibles (voir README.md).\n",
    "    L'opération est faite inplace.\n",
    "\n",
    "    @param df: Le DataFrame à renommer.\n",
    "    \"\"\"\n",
    "    df.rename(columns={'name':'Name', 'type1':'Primary Type', 'type2':'Secondary Type', 'attack':'Attack', 'defense':'Defense', 'hp':'HP', 'speed':'Speed', 'generation':'Generation', 'height_m':'Height', 'weight_kg':'Weight', 'capture_rate':'Capture Rate', 'is_legendary':'Legendary'}, inplace=True)\n",
    "    pass"
   ]
  },
  {
   "cell_type": "code",
   "execution_count": 23,
   "metadata": {},
   "outputs": [
    {
     "data": {
      "text/html": [
       "<div>\n",
       "<style scoped>\n",
       "    .dataframe tbody tr th:only-of-type {\n",
       "        vertical-align: middle;\n",
       "    }\n",
       "\n",
       "    .dataframe tbody tr th {\n",
       "        vertical-align: top;\n",
       "    }\n",
       "\n",
       "    .dataframe thead th {\n",
       "        text-align: right;\n",
       "    }\n",
       "</style>\n",
       "<table border=\"1\" class=\"dataframe\">\n",
       "  <thead>\n",
       "    <tr style=\"text-align: right;\">\n",
       "      <th></th>\n",
       "      <th>Attack</th>\n",
       "      <th>Capture Rate</th>\n",
       "      <th>Defense</th>\n",
       "      <th>Height</th>\n",
       "      <th>HP</th>\n",
       "      <th>Name</th>\n",
       "      <th>Speed</th>\n",
       "      <th>Primary Type</th>\n",
       "      <th>Secondary Type</th>\n",
       "      <th>Weight</th>\n",
       "      <th>Generation</th>\n",
       "      <th>Legendary</th>\n",
       "    </tr>\n",
       "  </thead>\n",
       "  <tbody>\n",
       "    <tr>\n",
       "      <th>0</th>\n",
       "      <td>49.0</td>\n",
       "      <td>45</td>\n",
       "      <td>49</td>\n",
       "      <td>0.7</td>\n",
       "      <td>45</td>\n",
       "      <td>Bulbasaur</td>\n",
       "      <td>45</td>\n",
       "      <td>grass</td>\n",
       "      <td>poison</td>\n",
       "      <td>6.9</td>\n",
       "      <td>1.0</td>\n",
       "      <td>0.0</td>\n",
       "    </tr>\n",
       "    <tr>\n",
       "      <th>1</th>\n",
       "      <td>62.0</td>\n",
       "      <td>45</td>\n",
       "      <td>63</td>\n",
       "      <td>1.0</td>\n",
       "      <td>60</td>\n",
       "      <td>Ivysaur</td>\n",
       "      <td>60</td>\n",
       "      <td>grass</td>\n",
       "      <td>poison</td>\n",
       "      <td>13.0</td>\n",
       "      <td>1.0</td>\n",
       "      <td>0.0</td>\n",
       "    </tr>\n",
       "    <tr>\n",
       "      <th>2</th>\n",
       "      <td>100.0</td>\n",
       "      <td>45</td>\n",
       "      <td>123</td>\n",
       "      <td>2.0</td>\n",
       "      <td>80</td>\n",
       "      <td>Venusaur</td>\n",
       "      <td>80</td>\n",
       "      <td>grass</td>\n",
       "      <td>poison</td>\n",
       "      <td>100.0</td>\n",
       "      <td>1.0</td>\n",
       "      <td>0.0</td>\n",
       "    </tr>\n",
       "    <tr>\n",
       "      <th>3</th>\n",
       "      <td>52.0</td>\n",
       "      <td>45</td>\n",
       "      <td>43</td>\n",
       "      <td>0.6</td>\n",
       "      <td>39</td>\n",
       "      <td>Charmander</td>\n",
       "      <td>65</td>\n",
       "      <td>fire</td>\n",
       "      <td>NaN</td>\n",
       "      <td>8.5</td>\n",
       "      <td>1.0</td>\n",
       "      <td>0.0</td>\n",
       "    </tr>\n",
       "    <tr>\n",
       "      <th>4</th>\n",
       "      <td>64.0</td>\n",
       "      <td>45</td>\n",
       "      <td>58</td>\n",
       "      <td>1.1</td>\n",
       "      <td>58</td>\n",
       "      <td>Charmeleon</td>\n",
       "      <td>80</td>\n",
       "      <td>fire</td>\n",
       "      <td>NaN</td>\n",
       "      <td>19.0</td>\n",
       "      <td>1.0</td>\n",
       "      <td>0.0</td>\n",
       "    </tr>\n",
       "    <tr>\n",
       "      <th>...</th>\n",
       "      <td>...</td>\n",
       "      <td>...</td>\n",
       "      <td>...</td>\n",
       "      <td>...</td>\n",
       "      <td>...</td>\n",
       "      <td>...</td>\n",
       "      <td>...</td>\n",
       "      <td>...</td>\n",
       "      <td>...</td>\n",
       "      <td>...</td>\n",
       "      <td>...</td>\n",
       "      <td>...</td>\n",
       "    </tr>\n",
       "    <tr>\n",
       "      <th>801</th>\n",
       "      <td>110.0</td>\n",
       "      <td>45</td>\n",
       "      <td>120</td>\n",
       "      <td>1.5</td>\n",
       "      <td>NaN</td>\n",
       "      <td>HydroFang</td>\n",
       "      <td>NaN</td>\n",
       "      <td>water</td>\n",
       "      <td>dragon</td>\n",
       "      <td>45.5</td>\n",
       "      <td>8.0</td>\n",
       "      <td>NaN</td>\n",
       "    </tr>\n",
       "    <tr>\n",
       "      <th>802</th>\n",
       "      <td>NaN</td>\n",
       "      <td>30</td>\n",
       "      <td>100</td>\n",
       "      <td>NaN</td>\n",
       "      <td>75</td>\n",
       "      <td>TerraClaw</td>\n",
       "      <td>55</td>\n",
       "      <td>ground</td>\n",
       "      <td>dragon</td>\n",
       "      <td>NaN</td>\n",
       "      <td>NaN</td>\n",
       "      <td>NaN</td>\n",
       "    </tr>\n",
       "    <tr>\n",
       "      <th>803</th>\n",
       "      <td>92.0</td>\n",
       "      <td>80</td>\n",
       "      <td>88</td>\n",
       "      <td>1.5</td>\n",
       "      <td>86</td>\n",
       "      <td>Malamar</td>\n",
       "      <td>73</td>\n",
       "      <td>dark</td>\n",
       "      <td>psychic</td>\n",
       "      <td>47.0</td>\n",
       "      <td>6.0</td>\n",
       "      <td>0.0</td>\n",
       "    </tr>\n",
       "    <tr>\n",
       "      <th>804</th>\n",
       "      <td>49.0</td>\n",
       "      <td>190</td>\n",
       "      <td>56</td>\n",
       "      <td>0.4</td>\n",
       "      <td>49</td>\n",
       "      <td>Finneon</td>\n",
       "      <td>66</td>\n",
       "      <td>water</td>\n",
       "      <td>NaN</td>\n",
       "      <td>7.0</td>\n",
       "      <td>4.0</td>\n",
       "      <td>0.0</td>\n",
       "    </tr>\n",
       "    <tr>\n",
       "      <th>805</th>\n",
       "      <td>75.0</td>\n",
       "      <td>200</td>\n",
       "      <td>45</td>\n",
       "      <td>0.5</td>\n",
       "      <td>50</td>\n",
       "      <td>Karrablast</td>\n",
       "      <td>60</td>\n",
       "      <td>bug</td>\n",
       "      <td>NaN</td>\n",
       "      <td>5.9</td>\n",
       "      <td>5.0</td>\n",
       "      <td>0.0</td>\n",
       "    </tr>\n",
       "  </tbody>\n",
       "</table>\n",
       "<p>806 rows × 12 columns</p>\n",
       "</div>"
      ],
      "text/plain": [
       "     Attack Capture Rate  Defense  Height   HP        Name Speed Primary Type  \\\n",
       "0      49.0           45       49     0.7   45   Bulbasaur    45        grass   \n",
       "1      62.0           45       63     1.0   60     Ivysaur    60        grass   \n",
       "2     100.0           45      123     2.0   80    Venusaur    80        grass   \n",
       "3      52.0           45       43     0.6   39  Charmander    65         fire   \n",
       "4      64.0           45       58     1.1   58  Charmeleon    80         fire   \n",
       "..      ...          ...      ...     ...  ...         ...   ...          ...   \n",
       "801   110.0           45      120     1.5  NaN   HydroFang   NaN        water   \n",
       "802     NaN           30      100     NaN   75   TerraClaw    55       ground   \n",
       "803    92.0           80       88     1.5   86     Malamar    73         dark   \n",
       "804    49.0          190       56     0.4   49     Finneon    66        water   \n",
       "805    75.0          200       45     0.5   50  Karrablast    60          bug   \n",
       "\n",
       "    Secondary Type  Weight  Generation  Legendary  \n",
       "0           poison     6.9         1.0        0.0  \n",
       "1           poison    13.0         1.0        0.0  \n",
       "2           poison   100.0         1.0        0.0  \n",
       "3              NaN     8.5         1.0        0.0  \n",
       "4              NaN    19.0         1.0        0.0  \n",
       "..             ...     ...         ...        ...  \n",
       "801         dragon    45.5         8.0        NaN  \n",
       "802         dragon     NaN         NaN        NaN  \n",
       "803        psychic    47.0         6.0        0.0  \n",
       "804            NaN     7.0         4.0        0.0  \n",
       "805            NaN     5.9         5.0        0.0  \n",
       "\n",
       "[806 rows x 12 columns]"
      ]
     },
     "execution_count": 23,
     "metadata": {},
     "output_type": "execute_result"
    }
   ],
   "source": [
    "rename_columns(pokedex)\n",
    "pokedex"
   ]
  },
  {
   "cell_type": "markdown",
   "metadata": {
    "collapsed": false
   },
   "source": [
    "### 1.3. Nettoyage des données"
   ]
  },
  {
   "cell_type": "code",
   "execution_count": 24,
   "metadata": {},
   "outputs": [],
   "source": [
    "def clean_data(df: pd.DataFrame) -> None:\n",
    "    \"\"\" \n",
    "    Nettoie les données du DataFrame passé en paramètre pour les rendre plus lisibles (voir README.md).\n",
    "    - Supprime les doublons\n",
    "    - Supprime les lignes ayant des valeurs manquantes (sauf pour la colonne 'Secondary Type')\n",
    "    - Réinitialise les index\n",
    "    Les opérations sont faites inplace.\n",
    "\n",
    "    @param df: Le DataFrame à nettoyer.\n",
    "    \"\"\"\n",
    "    df.drop_duplicates(inplace=True)\n",
    "    df.dropna(subset=df.columns.difference(['Secondary Type']), inplace=True)\n",
    "    df.reset_index(drop=True, inplace=True)\n",
    "    pass"
   ]
  },
  {
   "cell_type": "code",
   "execution_count": 25,
   "metadata": {},
   "outputs": [
    {
     "data": {
      "text/html": [
       "<div>\n",
       "<style scoped>\n",
       "    .dataframe tbody tr th:only-of-type {\n",
       "        vertical-align: middle;\n",
       "    }\n",
       "\n",
       "    .dataframe tbody tr th {\n",
       "        vertical-align: top;\n",
       "    }\n",
       "\n",
       "    .dataframe thead th {\n",
       "        text-align: right;\n",
       "    }\n",
       "</style>\n",
       "<table border=\"1\" class=\"dataframe\">\n",
       "  <thead>\n",
       "    <tr style=\"text-align: right;\">\n",
       "      <th></th>\n",
       "      <th>Attack</th>\n",
       "      <th>Capture Rate</th>\n",
       "      <th>Defense</th>\n",
       "      <th>Height</th>\n",
       "      <th>HP</th>\n",
       "      <th>Name</th>\n",
       "      <th>Speed</th>\n",
       "      <th>Primary Type</th>\n",
       "      <th>Secondary Type</th>\n",
       "      <th>Weight</th>\n",
       "      <th>Generation</th>\n",
       "      <th>Legendary</th>\n",
       "    </tr>\n",
       "  </thead>\n",
       "  <tbody>\n",
       "    <tr>\n",
       "      <th>0</th>\n",
       "      <td>49.0</td>\n",
       "      <td>45</td>\n",
       "      <td>49</td>\n",
       "      <td>0.7</td>\n",
       "      <td>45</td>\n",
       "      <td>Bulbasaur</td>\n",
       "      <td>45</td>\n",
       "      <td>grass</td>\n",
       "      <td>poison</td>\n",
       "      <td>6.9</td>\n",
       "      <td>1.0</td>\n",
       "      <td>0.0</td>\n",
       "    </tr>\n",
       "    <tr>\n",
       "      <th>1</th>\n",
       "      <td>62.0</td>\n",
       "      <td>45</td>\n",
       "      <td>63</td>\n",
       "      <td>1.0</td>\n",
       "      <td>60</td>\n",
       "      <td>Ivysaur</td>\n",
       "      <td>60</td>\n",
       "      <td>grass</td>\n",
       "      <td>poison</td>\n",
       "      <td>13.0</td>\n",
       "      <td>1.0</td>\n",
       "      <td>0.0</td>\n",
       "    </tr>\n",
       "    <tr>\n",
       "      <th>2</th>\n",
       "      <td>100.0</td>\n",
       "      <td>45</td>\n",
       "      <td>123</td>\n",
       "      <td>2.0</td>\n",
       "      <td>80</td>\n",
       "      <td>Venusaur</td>\n",
       "      <td>80</td>\n",
       "      <td>grass</td>\n",
       "      <td>poison</td>\n",
       "      <td>100.0</td>\n",
       "      <td>1.0</td>\n",
       "      <td>0.0</td>\n",
       "    </tr>\n",
       "    <tr>\n",
       "      <th>3</th>\n",
       "      <td>52.0</td>\n",
       "      <td>45</td>\n",
       "      <td>43</td>\n",
       "      <td>0.6</td>\n",
       "      <td>39</td>\n",
       "      <td>Charmander</td>\n",
       "      <td>65</td>\n",
       "      <td>fire</td>\n",
       "      <td>NaN</td>\n",
       "      <td>8.5</td>\n",
       "      <td>1.0</td>\n",
       "      <td>0.0</td>\n",
       "    </tr>\n",
       "    <tr>\n",
       "      <th>4</th>\n",
       "      <td>64.0</td>\n",
       "      <td>45</td>\n",
       "      <td>58</td>\n",
       "      <td>1.1</td>\n",
       "      <td>58</td>\n",
       "      <td>Charmeleon</td>\n",
       "      <td>80</td>\n",
       "      <td>fire</td>\n",
       "      <td>NaN</td>\n",
       "      <td>19.0</td>\n",
       "      <td>1.0</td>\n",
       "      <td>0.0</td>\n",
       "    </tr>\n",
       "    <tr>\n",
       "      <th>...</th>\n",
       "      <td>...</td>\n",
       "      <td>...</td>\n",
       "      <td>...</td>\n",
       "      <td>...</td>\n",
       "      <td>...</td>\n",
       "      <td>...</td>\n",
       "      <td>...</td>\n",
       "      <td>...</td>\n",
       "      <td>...</td>\n",
       "      <td>...</td>\n",
       "      <td>...</td>\n",
       "      <td>...</td>\n",
       "    </tr>\n",
       "    <tr>\n",
       "      <th>775</th>\n",
       "      <td>101.0</td>\n",
       "      <td>25</td>\n",
       "      <td>103</td>\n",
       "      <td>9.2</td>\n",
       "      <td>97</td>\n",
       "      <td>Celesteela</td>\n",
       "      <td>61</td>\n",
       "      <td>steel</td>\n",
       "      <td>flying</td>\n",
       "      <td>999.9</td>\n",
       "      <td>7.0</td>\n",
       "      <td>1.0</td>\n",
       "    </tr>\n",
       "    <tr>\n",
       "      <th>776</th>\n",
       "      <td>181.0</td>\n",
       "      <td>255</td>\n",
       "      <td>131</td>\n",
       "      <td>0.3</td>\n",
       "      <td>59</td>\n",
       "      <td>Kartana</td>\n",
       "      <td>109</td>\n",
       "      <td>grass</td>\n",
       "      <td>steel</td>\n",
       "      <td>0.1</td>\n",
       "      <td>7.0</td>\n",
       "      <td>1.0</td>\n",
       "    </tr>\n",
       "    <tr>\n",
       "      <th>777</th>\n",
       "      <td>101.0</td>\n",
       "      <td>15</td>\n",
       "      <td>53</td>\n",
       "      <td>5.5</td>\n",
       "      <td>223</td>\n",
       "      <td>Guzzlord</td>\n",
       "      <td>43</td>\n",
       "      <td>dark</td>\n",
       "      <td>dragon</td>\n",
       "      <td>888.0</td>\n",
       "      <td>7.0</td>\n",
       "      <td>1.0</td>\n",
       "    </tr>\n",
       "    <tr>\n",
       "      <th>778</th>\n",
       "      <td>107.0</td>\n",
       "      <td>3</td>\n",
       "      <td>101</td>\n",
       "      <td>2.4</td>\n",
       "      <td>97</td>\n",
       "      <td>Necrozma</td>\n",
       "      <td>79</td>\n",
       "      <td>psychic</td>\n",
       "      <td>NaN</td>\n",
       "      <td>230.0</td>\n",
       "      <td>7.0</td>\n",
       "      <td>1.0</td>\n",
       "    </tr>\n",
       "    <tr>\n",
       "      <th>779</th>\n",
       "      <td>95.0</td>\n",
       "      <td>3</td>\n",
       "      <td>115</td>\n",
       "      <td>1.0</td>\n",
       "      <td>80</td>\n",
       "      <td>Magearna</td>\n",
       "      <td>65</td>\n",
       "      <td>steel</td>\n",
       "      <td>fairy</td>\n",
       "      <td>80.5</td>\n",
       "      <td>7.0</td>\n",
       "      <td>1.0</td>\n",
       "    </tr>\n",
       "  </tbody>\n",
       "</table>\n",
       "<p>780 rows × 12 columns</p>\n",
       "</div>"
      ],
      "text/plain": [
       "     Attack Capture Rate  Defense  Height   HP        Name Speed Primary Type  \\\n",
       "0      49.0           45       49     0.7   45   Bulbasaur    45        grass   \n",
       "1      62.0           45       63     1.0   60     Ivysaur    60        grass   \n",
       "2     100.0           45      123     2.0   80    Venusaur    80        grass   \n",
       "3      52.0           45       43     0.6   39  Charmander    65         fire   \n",
       "4      64.0           45       58     1.1   58  Charmeleon    80         fire   \n",
       "..      ...          ...      ...     ...  ...         ...   ...          ...   \n",
       "775   101.0           25      103     9.2   97  Celesteela    61        steel   \n",
       "776   181.0          255      131     0.3   59     Kartana   109        grass   \n",
       "777   101.0           15       53     5.5  223    Guzzlord    43         dark   \n",
       "778   107.0            3      101     2.4   97    Necrozma    79      psychic   \n",
       "779    95.0            3      115     1.0   80    Magearna    65        steel   \n",
       "\n",
       "    Secondary Type  Weight  Generation  Legendary  \n",
       "0           poison     6.9         1.0        0.0  \n",
       "1           poison    13.0         1.0        0.0  \n",
       "2           poison   100.0         1.0        0.0  \n",
       "3              NaN     8.5         1.0        0.0  \n",
       "4              NaN    19.0         1.0        0.0  \n",
       "..             ...     ...         ...        ...  \n",
       "775         flying   999.9         7.0        1.0  \n",
       "776          steel     0.1         7.0        1.0  \n",
       "777         dragon   888.0         7.0        1.0  \n",
       "778            NaN   230.0         7.0        1.0  \n",
       "779          fairy    80.5         7.0        1.0  \n",
       "\n",
       "[780 rows x 12 columns]"
      ]
     },
     "execution_count": 25,
     "metadata": {},
     "output_type": "execute_result"
    }
   ],
   "source": [
    "clean_data(pokedex)\n",
    "pokedex"
   ]
  },
  {
   "cell_type": "code",
   "execution_count": 26,
   "metadata": {},
   "outputs": [
    {
     "name": "stdout",
     "output_type": "stream",
     "text": [
      "<class 'pandas.core.frame.DataFrame'>\n",
      "RangeIndex: 780 entries, 0 to 779\n",
      "Data columns (total 12 columns):\n",
      " #   Column          Non-Null Count  Dtype  \n",
      "---  ------          --------------  -----  \n",
      " 0   Attack          780 non-null    float64\n",
      " 1   Capture Rate    780 non-null    object \n",
      " 2   Defense         780 non-null    int64  \n",
      " 3   Height          780 non-null    float64\n",
      " 4   HP              780 non-null    object \n",
      " 5   Name            780 non-null    object \n",
      " 6   Speed           780 non-null    object \n",
      " 7   Primary Type    780 non-null    object \n",
      " 8   Secondary Type  397 non-null    object \n",
      " 9   Weight          780 non-null    float64\n",
      " 10  Generation      780 non-null    float64\n",
      " 11  Legendary       780 non-null    float64\n",
      "dtypes: float64(5), int64(1), object(6)\n",
      "memory usage: 73.3+ KB\n"
     ]
    }
   ],
   "source": [
    "# Permet de vérifier les types de chaque colonne\n",
    "# TODO: Décommenter la ligne suivante lorsque vous avez terminé la fonction clean_data\n",
    "pokedex.info()"
   ]
  },
  {
   "cell_type": "markdown",
   "metadata": {},
   "source": [
    "### 1.4 Correction des types de données"
   ]
  },
  {
   "cell_type": "code",
   "execution_count": 27,
   "metadata": {},
   "outputs": [],
   "source": [
    "def correct_columns_types(df) -> None:\n",
    "    \"\"\"\n",
    "    Corrige les types des colonnes du DataFrame passé en paramètre (voir README.md).\n",
    "    Les opérations sont faites inplace.\n",
    "\n",
    "    @param df: Le DataFrame dont les types des colonnes doivent être corrigés.\n",
    "    \"\"\"\n",
    "    df['Attack']=df['Attack'].astype(int)\n",
    "    df['Generation']=df['Generation'].astype(int)\n",
    "    df['HP']=df['HP'].astype(int)\n",
    "    df['Speed']=df['Speed'].astype(int)\n",
    "    df['Legendary']=df['Legendary'].astype(bool)\n",
    "    pass"
   ]
  },
  {
   "cell_type": "code",
   "execution_count": 28,
   "metadata": {},
   "outputs": [
    {
     "data": {
      "text/html": [
       "<div>\n",
       "<style scoped>\n",
       "    .dataframe tbody tr th:only-of-type {\n",
       "        vertical-align: middle;\n",
       "    }\n",
       "\n",
       "    .dataframe tbody tr th {\n",
       "        vertical-align: top;\n",
       "    }\n",
       "\n",
       "    .dataframe thead th {\n",
       "        text-align: right;\n",
       "    }\n",
       "</style>\n",
       "<table border=\"1\" class=\"dataframe\">\n",
       "  <thead>\n",
       "    <tr style=\"text-align: right;\">\n",
       "      <th></th>\n",
       "      <th>Attack</th>\n",
       "      <th>Capture Rate</th>\n",
       "      <th>Defense</th>\n",
       "      <th>Height</th>\n",
       "      <th>HP</th>\n",
       "      <th>Name</th>\n",
       "      <th>Speed</th>\n",
       "      <th>Primary Type</th>\n",
       "      <th>Secondary Type</th>\n",
       "      <th>Weight</th>\n",
       "      <th>Generation</th>\n",
       "      <th>Legendary</th>\n",
       "    </tr>\n",
       "  </thead>\n",
       "  <tbody>\n",
       "    <tr>\n",
       "      <th>0</th>\n",
       "      <td>49</td>\n",
       "      <td>45</td>\n",
       "      <td>49</td>\n",
       "      <td>0.7</td>\n",
       "      <td>45</td>\n",
       "      <td>Bulbasaur</td>\n",
       "      <td>45</td>\n",
       "      <td>grass</td>\n",
       "      <td>poison</td>\n",
       "      <td>6.9</td>\n",
       "      <td>1</td>\n",
       "      <td>False</td>\n",
       "    </tr>\n",
       "    <tr>\n",
       "      <th>1</th>\n",
       "      <td>62</td>\n",
       "      <td>45</td>\n",
       "      <td>63</td>\n",
       "      <td>1.0</td>\n",
       "      <td>60</td>\n",
       "      <td>Ivysaur</td>\n",
       "      <td>60</td>\n",
       "      <td>grass</td>\n",
       "      <td>poison</td>\n",
       "      <td>13.0</td>\n",
       "      <td>1</td>\n",
       "      <td>False</td>\n",
       "    </tr>\n",
       "    <tr>\n",
       "      <th>2</th>\n",
       "      <td>100</td>\n",
       "      <td>45</td>\n",
       "      <td>123</td>\n",
       "      <td>2.0</td>\n",
       "      <td>80</td>\n",
       "      <td>Venusaur</td>\n",
       "      <td>80</td>\n",
       "      <td>grass</td>\n",
       "      <td>poison</td>\n",
       "      <td>100.0</td>\n",
       "      <td>1</td>\n",
       "      <td>False</td>\n",
       "    </tr>\n",
       "    <tr>\n",
       "      <th>3</th>\n",
       "      <td>52</td>\n",
       "      <td>45</td>\n",
       "      <td>43</td>\n",
       "      <td>0.6</td>\n",
       "      <td>39</td>\n",
       "      <td>Charmander</td>\n",
       "      <td>65</td>\n",
       "      <td>fire</td>\n",
       "      <td>NaN</td>\n",
       "      <td>8.5</td>\n",
       "      <td>1</td>\n",
       "      <td>False</td>\n",
       "    </tr>\n",
       "    <tr>\n",
       "      <th>4</th>\n",
       "      <td>64</td>\n",
       "      <td>45</td>\n",
       "      <td>58</td>\n",
       "      <td>1.1</td>\n",
       "      <td>58</td>\n",
       "      <td>Charmeleon</td>\n",
       "      <td>80</td>\n",
       "      <td>fire</td>\n",
       "      <td>NaN</td>\n",
       "      <td>19.0</td>\n",
       "      <td>1</td>\n",
       "      <td>False</td>\n",
       "    </tr>\n",
       "    <tr>\n",
       "      <th>...</th>\n",
       "      <td>...</td>\n",
       "      <td>...</td>\n",
       "      <td>...</td>\n",
       "      <td>...</td>\n",
       "      <td>...</td>\n",
       "      <td>...</td>\n",
       "      <td>...</td>\n",
       "      <td>...</td>\n",
       "      <td>...</td>\n",
       "      <td>...</td>\n",
       "      <td>...</td>\n",
       "      <td>...</td>\n",
       "    </tr>\n",
       "    <tr>\n",
       "      <th>775</th>\n",
       "      <td>101</td>\n",
       "      <td>25</td>\n",
       "      <td>103</td>\n",
       "      <td>9.2</td>\n",
       "      <td>97</td>\n",
       "      <td>Celesteela</td>\n",
       "      <td>61</td>\n",
       "      <td>steel</td>\n",
       "      <td>flying</td>\n",
       "      <td>999.9</td>\n",
       "      <td>7</td>\n",
       "      <td>True</td>\n",
       "    </tr>\n",
       "    <tr>\n",
       "      <th>776</th>\n",
       "      <td>181</td>\n",
       "      <td>255</td>\n",
       "      <td>131</td>\n",
       "      <td>0.3</td>\n",
       "      <td>59</td>\n",
       "      <td>Kartana</td>\n",
       "      <td>109</td>\n",
       "      <td>grass</td>\n",
       "      <td>steel</td>\n",
       "      <td>0.1</td>\n",
       "      <td>7</td>\n",
       "      <td>True</td>\n",
       "    </tr>\n",
       "    <tr>\n",
       "      <th>777</th>\n",
       "      <td>101</td>\n",
       "      <td>15</td>\n",
       "      <td>53</td>\n",
       "      <td>5.5</td>\n",
       "      <td>223</td>\n",
       "      <td>Guzzlord</td>\n",
       "      <td>43</td>\n",
       "      <td>dark</td>\n",
       "      <td>dragon</td>\n",
       "      <td>888.0</td>\n",
       "      <td>7</td>\n",
       "      <td>True</td>\n",
       "    </tr>\n",
       "    <tr>\n",
       "      <th>778</th>\n",
       "      <td>107</td>\n",
       "      <td>3</td>\n",
       "      <td>101</td>\n",
       "      <td>2.4</td>\n",
       "      <td>97</td>\n",
       "      <td>Necrozma</td>\n",
       "      <td>79</td>\n",
       "      <td>psychic</td>\n",
       "      <td>NaN</td>\n",
       "      <td>230.0</td>\n",
       "      <td>7</td>\n",
       "      <td>True</td>\n",
       "    </tr>\n",
       "    <tr>\n",
       "      <th>779</th>\n",
       "      <td>95</td>\n",
       "      <td>3</td>\n",
       "      <td>115</td>\n",
       "      <td>1.0</td>\n",
       "      <td>80</td>\n",
       "      <td>Magearna</td>\n",
       "      <td>65</td>\n",
       "      <td>steel</td>\n",
       "      <td>fairy</td>\n",
       "      <td>80.5</td>\n",
       "      <td>7</td>\n",
       "      <td>True</td>\n",
       "    </tr>\n",
       "  </tbody>\n",
       "</table>\n",
       "<p>780 rows × 12 columns</p>\n",
       "</div>"
      ],
      "text/plain": [
       "     Attack Capture Rate  Defense  Height   HP        Name  Speed  \\\n",
       "0        49           45       49     0.7   45   Bulbasaur     45   \n",
       "1        62           45       63     1.0   60     Ivysaur     60   \n",
       "2       100           45      123     2.0   80    Venusaur     80   \n",
       "3        52           45       43     0.6   39  Charmander     65   \n",
       "4        64           45       58     1.1   58  Charmeleon     80   \n",
       "..      ...          ...      ...     ...  ...         ...    ...   \n",
       "775     101           25      103     9.2   97  Celesteela     61   \n",
       "776     181          255      131     0.3   59     Kartana    109   \n",
       "777     101           15       53     5.5  223    Guzzlord     43   \n",
       "778     107            3      101     2.4   97    Necrozma     79   \n",
       "779      95            3      115     1.0   80    Magearna     65   \n",
       "\n",
       "    Primary Type Secondary Type  Weight  Generation  Legendary  \n",
       "0          grass         poison     6.9           1      False  \n",
       "1          grass         poison    13.0           1      False  \n",
       "2          grass         poison   100.0           1      False  \n",
       "3           fire            NaN     8.5           1      False  \n",
       "4           fire            NaN    19.0           1      False  \n",
       "..           ...            ...     ...         ...        ...  \n",
       "775        steel         flying   999.9           7       True  \n",
       "776        grass          steel     0.1           7       True  \n",
       "777         dark         dragon   888.0           7       True  \n",
       "778      psychic            NaN   230.0           7       True  \n",
       "779        steel          fairy    80.5           7       True  \n",
       "\n",
       "[780 rows x 12 columns]"
      ]
     },
     "execution_count": 28,
     "metadata": {},
     "output_type": "execute_result"
    }
   ],
   "source": [
    "correct_columns_types(pokedex)\n",
    "pokedex"
   ]
  },
  {
   "cell_type": "code",
   "execution_count": 29,
   "metadata": {},
   "outputs": [
    {
     "name": "stdout",
     "output_type": "stream",
     "text": [
      "<class 'pandas.core.frame.DataFrame'>\n",
      "RangeIndex: 780 entries, 0 to 779\n",
      "Data columns (total 12 columns):\n",
      " #   Column          Non-Null Count  Dtype  \n",
      "---  ------          --------------  -----  \n",
      " 0   Attack          780 non-null    int32  \n",
      " 1   Capture Rate    780 non-null    object \n",
      " 2   Defense         780 non-null    int64  \n",
      " 3   Height          780 non-null    float64\n",
      " 4   HP              780 non-null    int32  \n",
      " 5   Name            780 non-null    object \n",
      " 6   Speed           780 non-null    int32  \n",
      " 7   Primary Type    780 non-null    object \n",
      " 8   Secondary Type  397 non-null    object \n",
      " 9   Weight          780 non-null    float64\n",
      " 10  Generation      780 non-null    int32  \n",
      " 11  Legendary       780 non-null    bool   \n",
      "dtypes: bool(1), float64(2), int32(4), int64(1), object(4)\n",
      "memory usage: 55.7+ KB\n"
     ]
    }
   ],
   "source": [
    "# Permet de vérifier que les types des colonnes ont bien été corrigés\n",
    "# TODO: Décommenter la ligne suivante lorsque vous avez terminé la fonction correct_columns_types\n",
    "pokedex.info()"
   ]
  },
  {
   "cell_type": "markdown",
   "metadata": {},
   "source": [
    "### 1.5 Ajout d'une colonne"
   ]
  },
  {
   "cell_type": "code",
   "execution_count": 30,
   "metadata": {},
   "outputs": [],
   "source": [
    "def add_agility_column(df: pd.DataFrame) -> None:\n",
    "    \"\"\"\n",
    "    Ajoute une colonne 'Agility' au DataFrame passé en paramètre.\n",
    "    La colonne 'Agility' est calculée en divisant la vitesse par le poids.\n",
    "\n",
    "    @param df: Le DataFrame auquel ajouter la colonne 'Agility'.\n",
    "    \"\"\"\n",
    "    df['Agility'] = (df['Speed']/df['Weight']).round(1)\n",
    "    pass"
   ]
  },
  {
   "cell_type": "code",
   "execution_count": 31,
   "metadata": {},
   "outputs": [
    {
     "data": {
      "text/html": [
       "<div>\n",
       "<style scoped>\n",
       "    .dataframe tbody tr th:only-of-type {\n",
       "        vertical-align: middle;\n",
       "    }\n",
       "\n",
       "    .dataframe tbody tr th {\n",
       "        vertical-align: top;\n",
       "    }\n",
       "\n",
       "    .dataframe thead th {\n",
       "        text-align: right;\n",
       "    }\n",
       "</style>\n",
       "<table border=\"1\" class=\"dataframe\">\n",
       "  <thead>\n",
       "    <tr style=\"text-align: right;\">\n",
       "      <th></th>\n",
       "      <th>Attack</th>\n",
       "      <th>Capture Rate</th>\n",
       "      <th>Defense</th>\n",
       "      <th>Height</th>\n",
       "      <th>HP</th>\n",
       "      <th>Name</th>\n",
       "      <th>Speed</th>\n",
       "      <th>Primary Type</th>\n",
       "      <th>Secondary Type</th>\n",
       "      <th>Weight</th>\n",
       "      <th>Generation</th>\n",
       "      <th>Legendary</th>\n",
       "      <th>Agility</th>\n",
       "    </tr>\n",
       "  </thead>\n",
       "  <tbody>\n",
       "    <tr>\n",
       "      <th>0</th>\n",
       "      <td>49</td>\n",
       "      <td>45</td>\n",
       "      <td>49</td>\n",
       "      <td>0.7</td>\n",
       "      <td>45</td>\n",
       "      <td>Bulbasaur</td>\n",
       "      <td>45</td>\n",
       "      <td>grass</td>\n",
       "      <td>poison</td>\n",
       "      <td>6.9</td>\n",
       "      <td>1</td>\n",
       "      <td>False</td>\n",
       "      <td>6.5</td>\n",
       "    </tr>\n",
       "    <tr>\n",
       "      <th>1</th>\n",
       "      <td>62</td>\n",
       "      <td>45</td>\n",
       "      <td>63</td>\n",
       "      <td>1.0</td>\n",
       "      <td>60</td>\n",
       "      <td>Ivysaur</td>\n",
       "      <td>60</td>\n",
       "      <td>grass</td>\n",
       "      <td>poison</td>\n",
       "      <td>13.0</td>\n",
       "      <td>1</td>\n",
       "      <td>False</td>\n",
       "      <td>4.6</td>\n",
       "    </tr>\n",
       "    <tr>\n",
       "      <th>2</th>\n",
       "      <td>100</td>\n",
       "      <td>45</td>\n",
       "      <td>123</td>\n",
       "      <td>2.0</td>\n",
       "      <td>80</td>\n",
       "      <td>Venusaur</td>\n",
       "      <td>80</td>\n",
       "      <td>grass</td>\n",
       "      <td>poison</td>\n",
       "      <td>100.0</td>\n",
       "      <td>1</td>\n",
       "      <td>False</td>\n",
       "      <td>0.8</td>\n",
       "    </tr>\n",
       "    <tr>\n",
       "      <th>3</th>\n",
       "      <td>52</td>\n",
       "      <td>45</td>\n",
       "      <td>43</td>\n",
       "      <td>0.6</td>\n",
       "      <td>39</td>\n",
       "      <td>Charmander</td>\n",
       "      <td>65</td>\n",
       "      <td>fire</td>\n",
       "      <td>NaN</td>\n",
       "      <td>8.5</td>\n",
       "      <td>1</td>\n",
       "      <td>False</td>\n",
       "      <td>7.6</td>\n",
       "    </tr>\n",
       "    <tr>\n",
       "      <th>4</th>\n",
       "      <td>64</td>\n",
       "      <td>45</td>\n",
       "      <td>58</td>\n",
       "      <td>1.1</td>\n",
       "      <td>58</td>\n",
       "      <td>Charmeleon</td>\n",
       "      <td>80</td>\n",
       "      <td>fire</td>\n",
       "      <td>NaN</td>\n",
       "      <td>19.0</td>\n",
       "      <td>1</td>\n",
       "      <td>False</td>\n",
       "      <td>4.2</td>\n",
       "    </tr>\n",
       "    <tr>\n",
       "      <th>...</th>\n",
       "      <td>...</td>\n",
       "      <td>...</td>\n",
       "      <td>...</td>\n",
       "      <td>...</td>\n",
       "      <td>...</td>\n",
       "      <td>...</td>\n",
       "      <td>...</td>\n",
       "      <td>...</td>\n",
       "      <td>...</td>\n",
       "      <td>...</td>\n",
       "      <td>...</td>\n",
       "      <td>...</td>\n",
       "      <td>...</td>\n",
       "    </tr>\n",
       "    <tr>\n",
       "      <th>775</th>\n",
       "      <td>101</td>\n",
       "      <td>25</td>\n",
       "      <td>103</td>\n",
       "      <td>9.2</td>\n",
       "      <td>97</td>\n",
       "      <td>Celesteela</td>\n",
       "      <td>61</td>\n",
       "      <td>steel</td>\n",
       "      <td>flying</td>\n",
       "      <td>999.9</td>\n",
       "      <td>7</td>\n",
       "      <td>True</td>\n",
       "      <td>0.1</td>\n",
       "    </tr>\n",
       "    <tr>\n",
       "      <th>776</th>\n",
       "      <td>181</td>\n",
       "      <td>255</td>\n",
       "      <td>131</td>\n",
       "      <td>0.3</td>\n",
       "      <td>59</td>\n",
       "      <td>Kartana</td>\n",
       "      <td>109</td>\n",
       "      <td>grass</td>\n",
       "      <td>steel</td>\n",
       "      <td>0.1</td>\n",
       "      <td>7</td>\n",
       "      <td>True</td>\n",
       "      <td>1090.0</td>\n",
       "    </tr>\n",
       "    <tr>\n",
       "      <th>777</th>\n",
       "      <td>101</td>\n",
       "      <td>15</td>\n",
       "      <td>53</td>\n",
       "      <td>5.5</td>\n",
       "      <td>223</td>\n",
       "      <td>Guzzlord</td>\n",
       "      <td>43</td>\n",
       "      <td>dark</td>\n",
       "      <td>dragon</td>\n",
       "      <td>888.0</td>\n",
       "      <td>7</td>\n",
       "      <td>True</td>\n",
       "      <td>0.0</td>\n",
       "    </tr>\n",
       "    <tr>\n",
       "      <th>778</th>\n",
       "      <td>107</td>\n",
       "      <td>3</td>\n",
       "      <td>101</td>\n",
       "      <td>2.4</td>\n",
       "      <td>97</td>\n",
       "      <td>Necrozma</td>\n",
       "      <td>79</td>\n",
       "      <td>psychic</td>\n",
       "      <td>NaN</td>\n",
       "      <td>230.0</td>\n",
       "      <td>7</td>\n",
       "      <td>True</td>\n",
       "      <td>0.3</td>\n",
       "    </tr>\n",
       "    <tr>\n",
       "      <th>779</th>\n",
       "      <td>95</td>\n",
       "      <td>3</td>\n",
       "      <td>115</td>\n",
       "      <td>1.0</td>\n",
       "      <td>80</td>\n",
       "      <td>Magearna</td>\n",
       "      <td>65</td>\n",
       "      <td>steel</td>\n",
       "      <td>fairy</td>\n",
       "      <td>80.5</td>\n",
       "      <td>7</td>\n",
       "      <td>True</td>\n",
       "      <td>0.8</td>\n",
       "    </tr>\n",
       "  </tbody>\n",
       "</table>\n",
       "<p>780 rows × 13 columns</p>\n",
       "</div>"
      ],
      "text/plain": [
       "     Attack Capture Rate  Defense  Height   HP        Name  Speed  \\\n",
       "0        49           45       49     0.7   45   Bulbasaur     45   \n",
       "1        62           45       63     1.0   60     Ivysaur     60   \n",
       "2       100           45      123     2.0   80    Venusaur     80   \n",
       "3        52           45       43     0.6   39  Charmander     65   \n",
       "4        64           45       58     1.1   58  Charmeleon     80   \n",
       "..      ...          ...      ...     ...  ...         ...    ...   \n",
       "775     101           25      103     9.2   97  Celesteela     61   \n",
       "776     181          255      131     0.3   59     Kartana    109   \n",
       "777     101           15       53     5.5  223    Guzzlord     43   \n",
       "778     107            3      101     2.4   97    Necrozma     79   \n",
       "779      95            3      115     1.0   80    Magearna     65   \n",
       "\n",
       "    Primary Type Secondary Type  Weight  Generation  Legendary  Agility  \n",
       "0          grass         poison     6.9           1      False      6.5  \n",
       "1          grass         poison    13.0           1      False      4.6  \n",
       "2          grass         poison   100.0           1      False      0.8  \n",
       "3           fire            NaN     8.5           1      False      7.6  \n",
       "4           fire            NaN    19.0           1      False      4.2  \n",
       "..           ...            ...     ...         ...        ...      ...  \n",
       "775        steel         flying   999.9           7       True      0.1  \n",
       "776        grass          steel     0.1           7       True   1090.0  \n",
       "777         dark         dragon   888.0           7       True      0.0  \n",
       "778      psychic            NaN   230.0           7       True      0.3  \n",
       "779        steel          fairy    80.5           7       True      0.8  \n",
       "\n",
       "[780 rows x 13 columns]"
      ]
     },
     "execution_count": 31,
     "metadata": {},
     "output_type": "execute_result"
    }
   ],
   "source": [
    "add_agility_column(pokedex)\n",
    "pokedex"
   ]
  },
  {
   "cell_type": "markdown",
   "metadata": {},
   "source": [
    "## Visualisation de données"
   ]
  },
  {
   "cell_type": "markdown",
   "metadata": {},
   "source": [
    "### 1.6 Le Spectre des Types"
   ]
  },
  {
   "cell_type": "code",
   "execution_count": 32,
   "metadata": {},
   "outputs": [],
   "source": [
    "def display_types_pie_chart(df: pd.DataFrame) -> None:\n",
    "    \"\"\"\n",
    "    Affiche un pie chart représentant la distribution des types primaires de Pokémon.\n",
    "\n",
    "    @param df: Le DataFrame contenant les données à afficher.\n",
    "    \"\"\"\n",
    "    freq_type_primaire=df['Primary Type'].value_counts()\n",
    "    fig = px.pie(freq_type_primaire, values='count', names=freq_type_primaire.index, title='Piechart de la distribution des types primaires de Pokémon', width=800, height=600)\n",
    "\n",
    "    pass\n",
    "    \n",
    "display_types_pie_chart(pokedex)"
   ]
  },
  {
   "cell_type": "markdown",
   "metadata": {},
   "source": [
    "### 1.7 Le Grand Recensement"
   ]
  },
  {
   "cell_type": "code",
   "execution_count": 33,
   "metadata": {},
   "outputs": [
    {
     "data": {
      "image/png": "[encoded data removed]",
      "text/plain": [
       "<Figure size 600x400 with 1 Axes>"
      ]
     },
     "metadata": {},
     "output_type": "display_data"
    }
   ],
   "source": [
    "def display_generation_histogram(df: pd.DataFrame) -> None:\n",
    "    \"\"\"\n",
    "    Affiche un histogramme représentant le nombre de Pokémon par génération,\n",
    "    en distinguant les Pokémon Légendaires et Non-Légendaires.\n",
    "\n",
    "    @param df: Le DataFrame contenant les données à afficher.\n",
    "    \"\"\"\n",
    "    valeurs_legendaires=df[df['Legendary'] == True]['Generation']#.value_counts().sort_index()\n",
    "    valeurs_non_legendaires=df[df['Legendary'] == False]['Generation']#.value_counts().sort_index()\n",
    "   \n",
    "    plt.figure(figsize=(6, 4))\n",
    "    plt.hist(valeurs_legendaires, bins=7, alpha=0.5, label='Legendaires', color='red', width=0.4)\n",
    "    plt.hist(valeurs_non_legendaires, bins=7, alpha=0.5, label='Non legendaires', color='orange', width=0.4)\n",
    "\n",
    "\n",
    "    plt.legend()\n",
    "    plt.title('Histogramme des generations selon legendarite')\n",
    "    plt.xlabel('Nombre de generations')\n",
    "    plt.ylabel('Nombre de Pokemons')\n",
    "    plt.show()\n",
    "    pass\n",
    "\n",
    "display_generation_histogram(pokedex)"
   ]
  },
  {
   "cell_type": "markdown",
   "metadata": {},
   "source": [
    "### 1.8 L'Ascension Générationnelle"
   ]
  },
  {
   "cell_type": "code",
   "execution_count": 34,
   "metadata": {},
   "outputs": [
    {
     "data": {
      "application/vnd.plotly.v1+json": {
       "config": {
        "plotlyServerURL": "https://plot.ly"
       },
       "data": [
        {
         "mode": "lines",
         "name": "Attack",
         "type": "scatter",
         "x": [
          1,
          2,
          3,
          4,
          5,
          6,
          7
         ],
         "y": [
          74.01503759398496,
          69.96,
          77.18518518518519,
          82.67289719626169,
          80.5576923076923,
          75.35211267605634,
          84.05128205128206
         ]
        },
        {
         "mode": "lines",
         "name": "Defense",
         "type": "scatter",
         "x": [
          1,
          2,
          3,
          4,
          5,
          6,
          7
         ],
         "y": [
          69.56390977443608,
          71.79,
          72.63703703703703,
          76.16822429906541,
          71.96153846153847,
          73.74647887323944,
          78.28205128205128
         ]
        },
        {
         "mode": "lines",
         "name": "HP",
         "type": "scatter",
         "x": [
          1,
          2,
          3,
          4,
          5,
          6,
          7
         ],
         "y": [
          65.0375939849624,
          70.98,
          65.66666666666667,
          73.10280373831776,
          70.31410256410257,
          70.98591549295774,
          70.52564102564102
         ]
        },
        {
         "mode": "lines",
         "name": "Speed",
         "type": "scatter",
         "x": [
          1,
          2,
          3,
          4,
          5,
          6,
          7
         ],
         "y": [
          70.56390977443608,
          61.61,
          63.577777777777776,
          70.07476635514018,
          66.51923076923077,
          66.46478873239437,
          63.08974358974359
         ]
        }
       ],
       "layout": {
        "template": {
         "data": {
          "bar": [
           {
            "error_x": {
             "color": "#2a3f5f"
            },
            "error_y": {
             "color": "#2a3f5f"
            },
            "marker": {
             "line": {
              "color": "#E5ECF6",
              "width": 0.5
             },
             "pattern": {
              "fillmode": "overlay",
              "size": 10,
              "solidity": 0.2
             }
            },
            "type": "bar"
           }
          ],
          "barpolar": [
           {
            "marker": {
             "line": {
              "color": "#E5ECF6",
              "width": 0.5
             },
             "pattern": {
              "fillmode": "overlay",
              "size": 10,
              "solidity": 0.2
             }
            },
            "type": "barpolar"
           }
          ],
          "carpet": [
           {
            "aaxis": {
             "endlinecolor": "#2a3f5f",
             "gridcolor": "white",
             "linecolor": "white",
             "minorgridcolor": "white",
             "startlinecolor": "#2a3f5f"
            },
            "baxis": {
             "endlinecolor": "#2a3f5f",
             "gridcolor": "white",
             "linecolor": "white",
             "minorgridcolor": "white",
             "startlinecolor": "#2a3f5f"
            },
            "type": "carpet"
           }
          ],
          "choropleth": [
           {
            "colorbar": {
             "outlinewidth": 0,
             "ticks": ""
            },
            "type": "choropleth"
           }
          ],
          "contour": [
           {
            "colorbar": {
             "outlinewidth": 0,
             "ticks": ""
            },
            "colorscale": [
             [
              0,
              "#0d0887"
             ],
             [
              0.1111111111111111,
              "#46039f"
             ],
             [
              0.2222222222222222,
              "#7201a8"
             ],
             [
              0.3333333333333333,
              "#9c179e"
             ],
             [
              0.4444444444444444,
              "#bd3786"
             ],
             [
              0.5555555555555556,
              "#d8576b"
             ],
             [
              0.6666666666666666,
              "#ed7953"
             ],
             [
              0.7777777777777778,
              "#fb9f3a"
             ],
             [
              0.8888888888888888,
              "#fdca26"
             ],
             [
              1,
              "#f0f921"
             ]
            ],
            "type": "contour"
           }
          ],
          "contourcarpet": [
           {
            "colorbar": {
             "outlinewidth": 0,
             "ticks": ""
            },
            "type": "contourcarpet"
           }
          ],
          "heatmap": [
           {
            "colorbar": {
             "outlinewidth": 0,
             "ticks": ""
            },
            "colorscale": [
             [
              0,
              "#0d0887"
             ],
             [
              0.1111111111111111,
              "#46039f"
             ],
             [
              0.2222222222222222,
              "#7201a8"
             ],
             [
              0.3333333333333333,
              "#9c179e"
             ],
             [
              0.4444444444444444,
              "#bd3786"
             ],
             [
              0.5555555555555556,
              "#d8576b"
             ],
             [
              0.6666666666666666,
              "#ed7953"
             ],
             [
              0.7777777777777778,
              "#fb9f3a"
             ],
             [
              0.8888888888888888,
              "#fdca26"
             ],
             [
              1,
              "#f0f921"
             ]
            ],
            "type": "heatmap"
           }
          ],
          "heatmapgl": [
           {
            "colorbar": {
             "outlinewidth": 0,
             "ticks": ""
            },
            "colorscale": [
             [
              0,
              "#0d0887"
             ],
             [
              0.1111111111111111,
              "#46039f"
             ],
             [
              0.2222222222222222,
              "#7201a8"
             ],
             [
              0.3333333333333333,
              "#9c179e"
             ],
             [
              0.4444444444444444,
              "#bd3786"
             ],
             [
              0.5555555555555556,
              "#d8576b"
             ],
             [
              0.6666666666666666,
              "#ed7953"
             ],
             [
              0.7777777777777778,
              "#fb9f3a"
             ],
             [
              0.8888888888888888,
              "#fdca26"
             ],
             [
              1,
              "#f0f921"
             ]
            ],
            "type": "heatmapgl"
           }
          ],
          "histogram": [
           {
            "marker": {
             "pattern": {
              "fillmode": "overlay",
              "size": 10,
              "solidity": 0.2
             }
            },
            "type": "histogram"
           }
          ],
          "histogram2d": [
           {
            "colorbar": {
             "outlinewidth": 0,
             "ticks": ""
            },
            "colorscale": [
             [
              0,
              "#0d0887"
             ],
             [
              0.1111111111111111,
              "#46039f"
             ],
             [
              0.2222222222222222,
              "#7201a8"
             ],
             [
              0.3333333333333333,
              "#9c179e"
             ],
             [
              0.4444444444444444,
              "#bd3786"
             ],
             [
              0.5555555555555556,
              "#d8576b"
             ],
             [
              0.6666666666666666,
              "#ed7953"
             ],
             [
              0.7777777777777778,
              "#fb9f3a"
             ],
             [
              0.8888888888888888,
              "#fdca26"
             ],
             [
              1,
              "#f0f921"
             ]
            ],
            "type": "histogram2d"
           }
          ],
          "histogram2dcontour": [
           {
            "colorbar": {
             "outlinewidth": 0,
             "ticks": ""
            },
            "colorscale": [
             [
              0,
              "#0d0887"
             ],
             [
              0.1111111111111111,
              "#46039f"
             ],
             [
              0.2222222222222222,
              "#7201a8"
             ],
             [
              0.3333333333333333,
              "#9c179e"
             ],
             [
              0.4444444444444444,
              "#bd3786"
             ],
             [
              0.5555555555555556,
              "#d8576b"
             ],
             [
              0.6666666666666666,
              "#ed7953"
             ],
             [
              0.7777777777777778,
              "#fb9f3a"
             ],
             [
              0.8888888888888888,
              "#fdca26"
             ],
             [
              1,
              "#f0f921"
             ]
            ],
            "type": "histogram2dcontour"
           }
          ],
          "mesh3d": [
           {
            "colorbar": {
             "outlinewidth": 0,
             "ticks": ""
            },
            "type": "mesh3d"
           }
          ],
          "parcoords": [
           {
            "line": {
             "colorbar": {
              "outlinewidth": 0,
              "ticks": ""
             }
            },
            "type": "parcoords"
           }
          ],
          "pie": [
           {
            "automargin": true,
            "type": "pie"
           }
          ],
          "scatter": [
           {
            "fillpattern": {
             "fillmode": "overlay",
             "size": 10,
             "solidity": 0.2
            },
            "type": "scatter"
           }
          ],
          "scatter3d": [
           {
            "line": {
             "colorbar": {
              "outlinewidth": 0,
              "ticks": ""
             }
            },
            "marker": {
             "colorbar": {
              "outlinewidth": 0,
              "ticks": ""
             }
            },
            "type": "scatter3d"
           }
          ],
          "scattercarpet": [
           {
            "marker": {
             "colorbar": {
              "outlinewidth": 0,
              "ticks": ""
             }
            },
            "type": "scattercarpet"
           }
          ],
          "scattergeo": [
           {
            "marker": {
             "colorbar": {
              "outlinewidth": 0,
              "ticks": ""
             }
            },
            "type": "scattergeo"
           }
          ],
          "scattergl": [
           {
            "marker": {
             "colorbar": {
              "outlinewidth": 0,
              "ticks": ""
             }
            },
            "type": "scattergl"
           }
          ],
          "scattermapbox": [
           {
            "marker": {
             "colorbar": {
              "outlinewidth": 0,
              "ticks": ""
             }
            },
            "type": "scattermapbox"
           }
          ],
          "scatterpolar": [
           {
            "marker": {
             "colorbar": {
              "outlinewidth": 0,
              "ticks": ""
             }
            },
            "type": "scatterpolar"
           }
          ],
          "scatterpolargl": [
           {
            "marker": {
             "colorbar": {
              "outlinewidth": 0,
              "ticks": ""
             }
            },
            "type": "scatterpolargl"
           }
          ],
          "scatterternary": [
           {
            "marker": {
             "colorbar": {
              "outlinewidth": 0,
              "ticks": ""
             }
            },
            "type": "scatterternary"
           }
          ],
          "surface": [
           {
            "colorbar": {
             "outlinewidth": 0,
             "ticks": ""
            },
            "colorscale": [
             [
              0,
              "#0d0887"
             ],
             [
              0.1111111111111111,
              "#46039f"
             ],
             [
              0.2222222222222222,
              "#7201a8"
             ],
             [
              0.3333333333333333,
              "#9c179e"
             ],
             [
              0.4444444444444444,
              "#bd3786"
             ],
             [
              0.5555555555555556,
              "#d8576b"
             ],
             [
              0.6666666666666666,
              "#ed7953"
             ],
             [
              0.7777777777777778,
              "#fb9f3a"
             ],
             [
              0.8888888888888888,
              "#fdca26"
             ],
             [
              1,
              "#f0f921"
             ]
            ],
            "type": "surface"
           }
          ],
          "table": [
           {
            "cells": {
             "fill": {
              "color": "#EBF0F8"
             },
             "line": {
              "color": "white"
             }
            },
            "header": {
             "fill": {
              "color": "#C8D4E3"
             },
             "line": {
              "color": "white"
             }
            },
            "type": "table"
           }
          ]
         },
         "layout": {
          "annotationdefaults": {
           "arrowcolor": "#2a3f5f",
           "arrowhead": 0,
           "arrowwidth": 1
          },
          "autotypenumbers": "strict",
          "coloraxis": {
           "colorbar": {
            "outlinewidth": 0,
            "ticks": ""
           }
          },
          "colorscale": {
           "diverging": [
            [
             0,
             "#8e0152"
            ],
            [
             0.1,
             "#c51b7d"
            ],
            [
             0.2,
             "#de77ae"
            ],
            [
             0.3,
             "#f1b6da"
            ],
            [
             0.4,
             "#fde0ef"
            ],
            [
             0.5,
             "#f7f7f7"
            ],
            [
             0.6,
             "#e6f5d0"
            ],
            [
             0.7,
             "#b8e186"
            ],
            [
             0.8,
             "#7fbc41"
            ],
            [
             0.9,
             "#4d9221"
            ],
            [
             1,
             "#276419"
            ]
           ],
           "sequential": [
            [
             0,
             "#0d0887"
            ],
            [
             0.1111111111111111,
             "#46039f"
            ],
            [
             0.2222222222222222,
             "#7201a8"
            ],
            [
             0.3333333333333333,
             "#9c179e"
            ],
            [
             0.4444444444444444,
             "#bd3786"
            ],
            [
             0.5555555555555556,
             "#d8576b"
            ],
            [
             0.6666666666666666,
             "#ed7953"
            ],
            [
             0.7777777777777778,
             "#fb9f3a"
            ],
            [
             0.8888888888888888,
             "#fdca26"
            ],
            [
             1,
             "#f0f921"
            ]
           ],
           "sequentialminus": [
            [
             0,
             "#0d0887"
            ],
            [
             0.1111111111111111,
             "#46039f"
            ],
            [
             0.2222222222222222,
             "#7201a8"
            ],
            [
             0.3333333333333333,
             "#9c179e"
            ],
            [
             0.4444444444444444,
             "#bd3786"
            ],
            [
             0.5555555555555556,
             "#d8576b"
            ],
            [
             0.6666666666666666,
             "#ed7953"
            ],
            [
             0.7777777777777778,
             "#fb9f3a"
            ],
            [
             0.8888888888888888,
             "#fdca26"
            ],
            [
             1,
             "#f0f921"
            ]
           ]
          },
          "colorway": [
           "#636efa",
           "#EF553B",
           "#00cc96",
           "#ab63fa",
           "#FFA15A",
           "#19d3f3",
           "#FF6692",
           "#B6E880",
           "#FF97FF",
           "#FECB52"
          ],
          "font": {
           "color": "#2a3f5f"
          },
          "geo": {
           "bgcolor": "white",
           "lakecolor": "white",
           "landcolor": "#E5ECF6",
           "showlakes": true,
           "showland": true,
           "subunitcolor": "white"
          },
          "hoverlabel": {
           "align": "left"
          },
          "hovermode": "closest",
          "mapbox": {
           "style": "light"
          },
          "paper_bgcolor": "white",
          "plot_bgcolor": "#E5ECF6",
          "polar": {
           "angularaxis": {
            "gridcolor": "white",
            "linecolor": "white",
            "ticks": ""
           },
           "bgcolor": "#E5ECF6",
           "radialaxis": {
            "gridcolor": "white",
            "linecolor": "white",
            "ticks": ""
           }
          },
          "scene": {
           "xaxis": {
            "backgroundcolor": "#E5ECF6",
            "gridcolor": "white",
            "gridwidth": 2,
            "linecolor": "white",
            "showbackground": true,
            "ticks": "",
            "zerolinecolor": "white"
           },
           "yaxis": {
            "backgroundcolor": "#E5ECF6",
            "gridcolor": "white",
            "gridwidth": 2,
            "linecolor": "white",
            "showbackground": true,
            "ticks": "",
            "zerolinecolor": "white"
           },
           "zaxis": {
            "backgroundcolor": "#E5ECF6",
            "gridcolor": "white",
            "gridwidth": 2,
            "linecolor": "white",
            "showbackground": true,
            "ticks": "",
            "zerolinecolor": "white"
           }
          },
          "shapedefaults": {
           "line": {
            "color": "#2a3f5f"
           }
          },
          "ternary": {
           "aaxis": {
            "gridcolor": "white",
            "linecolor": "white",
            "ticks": ""
           },
           "baxis": {
            "gridcolor": "white",
            "linecolor": "white",
            "ticks": ""
           },
           "bgcolor": "#E5ECF6",
           "caxis": {
            "gridcolor": "white",
            "linecolor": "white",
            "ticks": ""
           }
          },
          "title": {
           "x": 0.05
          },
          "xaxis": {
           "automargin": true,
           "gridcolor": "white",
           "linecolor": "white",
           "ticks": "",
           "title": {
            "standoff": 15
           },
           "zerolinecolor": "white",
           "zerolinewidth": 2
          },
          "yaxis": {
           "automargin": true,
           "gridcolor": "white",
           "linecolor": "white",
           "ticks": "",
           "title": {
            "standoff": 15
           },
           "zerolinecolor": "white",
           "zerolinewidth": 2
          }
         }
        },
        "title": {
         "text": "Évolution des statistiques moyennes par génération"
        },
        "xaxis": {
         "title": {
          "text": "Génération"
         }
        },
        "yaxis": {
         "title": {
          "text": "Statistique moyenne"
         }
        }
       }
      }
     },
     "metadata": {},
     "output_type": "display_data"
    }
   ],
   "source": [
    "def display_stats_evolution(df: pd.DataFrame) -> None:\n",
    "    \"\"\"\n",
    "    Affiche un graphique représentant l'évolution des statistiques moyennes des Pokémon par génération.\n",
    "\n",
    "    @param df: Le DataFrame contenant les données à afficher.\n",
    "    \"\"\"\n",
    "    statistique = df.groupby('Generation')[['Attack', 'Defense', 'HP', 'Speed']].mean()\n",
    "    generation = list(range(1, 8))\n",
    "    fig = go.Figure()\n",
    "    fig.add_trace(go.Scatter(x=generation, y=statistique['Attack'], mode='lines', name='Attack'))\n",
    "    fig.add_trace(go.Scatter(x=generation, y=statistique['Defense'], mode='lines', name='Defense'))\n",
    "    fig.add_trace(go.Scatter(x=generation, y=statistique['HP'], mode='lines', name='HP'))\n",
    "    fig.add_trace(go.Scatter(x=generation, y=statistique['Speed'], mode='lines', name='Speed'))\n",
    "    fig.update_xaxes(title='Génération')\n",
    "    fig.update_yaxes(title='Statistique moyenne')\n",
    "    fig.update_layout(title='Évolution des statistiques moyennes par génération')\n",
    "    fig.show()\n",
    "    pass\n",
    "\n",
    "display_stats_evolution(pokedex)"
   ]
  },
  {
   "cell_type": "markdown",
   "metadata": {},
   "source": [
    "### 1.9 Le Radar des Éléments\n"
   ]
  },
  {
   "cell_type": "code",
   "execution_count": 36,
   "metadata": {},
   "outputs": [
    {
     "data": {
      "application/vnd.plotly.v1+json": {
       "config": {
        "plotlyServerURL": "https://plot.ly"
       },
       "data": [
        {
         "fill": "toself",
         "line": {
          "color": "blue"
         },
         "name": "Attack",
         "r": [
          70.125,
          87.79310344827586,
          106.4074074074074,
          70.44736842105263,
          62.111111111111114,
          99.17857142857143,
          82.6,
          66.66666666666667,
          72.74074074074075,
          73.36363636363636,
          97.18518518518519,
          73.30434782608695,
          75.94059405940594,
          71.33333333333333,
          63.75,
          89.25,
          93.08333333333333,
          73.30701754385964
         ],
         "subplot": "polar",
         "theta": [
          "bug",
          "dark",
          "dragon",
          "electric",
          "fairy",
          "fighting",
          "fire",
          "flying",
          "ghost",
          "grass",
          "ground",
          "ice",
          "normal",
          "poison",
          "psychic",
          "rock",
          "steel",
          "water"
         ],
         "type": "scatterpolar"
        },
        {
         "fill": "toself",
         "line": {
          "color": "red"
         },
         "name": "Defense",
         "r": [
          70.84722222222223,
          70.51724137931035,
          86.25925925925925,
          62.13157894736842,
          68.16666666666667,
          66.39285714285714,
          68.2,
          65,
          79.51851851851852,
          70.68831168831169,
          84.25925925925925,
          71.91304347826087,
          60.07920792079208,
          70.53333333333333,
          69.4423076923077,
          96.3,
          120.20833333333333,
          73.48245614035088
         ],
         "subplot": "polar2",
         "theta": [
          "bug",
          "dark",
          "dragon",
          "electric",
          "fairy",
          "fighting",
          "fire",
          "flying",
          "ghost",
          "grass",
          "ground",
          "ice",
          "normal",
          "poison",
          "psychic",
          "rock",
          "steel",
          "water"
         ],
         "type": "scatterpolar"
        },
        {
         "fill": "toself",
         "line": {
          "color": "green"
         },
         "name": "HP",
         "r": [
          56.72222222222222,
          72.55172413793103,
          79.85185185185185,
          60.526315789473685,
          73.94444444444444,
          71.42857142857143,
          69.26,
          68,
          63.370370370370374,
          64.97402597402598,
          78.22222222222223,
          72.08695652173913,
          77.68316831683168,
          63.8,
          72.8076923076923,
          66.625,
          66.79166666666667,
          70.21929824561404
         ],
         "subplot": "polar3",
         "theta": [
          "bug",
          "dark",
          "dragon",
          "electric",
          "fairy",
          "fighting",
          "fire",
          "flying",
          "ghost",
          "grass",
          "ground",
          "ice",
          "normal",
          "poison",
          "psychic",
          "rock",
          "steel",
          "water"
         ],
         "type": "scatterpolar"
        }
       ],
       "layout": {
        "annotations": [
         {
          "font": {
           "size": 16
          },
          "showarrow": false,
          "text": "Attack",
          "x": 0.14444444444444446,
          "xanchor": "center",
          "xref": "paper",
          "y": 1,
          "yanchor": "bottom",
          "yref": "paper"
         },
         {
          "font": {
           "size": 16
          },
          "showarrow": false,
          "text": "Defense",
          "x": 0.5,
          "xanchor": "center",
          "xref": "paper",
          "y": 1,
          "yanchor": "bottom",
          "yref": "paper"
         },
         {
          "font": {
           "size": 16
          },
          "showarrow": false,
          "text": "HP",
          "x": 0.8555555555555556,
          "xanchor": "center",
          "xref": "paper",
          "y": 1,
          "yanchor": "bottom",
          "yref": "paper"
         }
        ],
        "height": 600,
        "polar": {
         "domain": {
          "x": [
           0,
           0.2888888888888889
          ],
          "y": [
           0,
           1
          ]
         },
         "radialaxis": {
          "range": [
           0,
           120.20833333333333
          ],
          "visible": true
         }
        },
        "polar2": {
         "domain": {
          "x": [
           0.35555555555555557,
           0.6444444444444445
          ],
          "y": [
           0,
           1
          ]
         }
        },
        "polar3": {
         "domain": {
          "x": [
           0.7111111111111111,
           1
          ],
          "y": [
           0,
           1
          ]
         }
        },
        "showlegend": true,
        "template": {
         "data": {
          "bar": [
           {
            "error_x": {
             "color": "#2a3f5f"
            },
            "error_y": {
             "color": "#2a3f5f"
            },
            "marker": {
             "line": {
              "color": "#E5ECF6",
              "width": 0.5
             },
             "pattern": {
              "fillmode": "overlay",
              "size": 10,
              "solidity": 0.2
             }
            },
            "type": "bar"
           }
          ],
          "barpolar": [
           {
            "marker": {
             "line": {
              "color": "#E5ECF6",
              "width": 0.5
             },
             "pattern": {
              "fillmode": "overlay",
              "size": 10,
              "solidity": 0.2
             }
            },
            "type": "barpolar"
           }
          ],
          "carpet": [
           {
            "aaxis": {
             "endlinecolor": "#2a3f5f",
             "gridcolor": "white",
             "linecolor": "white",
             "minorgridcolor": "white",
             "startlinecolor": "#2a3f5f"
            },
            "baxis": {
             "endlinecolor": "#2a3f5f",
             "gridcolor": "white",
             "linecolor": "white",
             "minorgridcolor": "white",
             "startlinecolor": "#2a3f5f"
            },
            "type": "carpet"
           }
          ],
          "choropleth": [
           {
            "colorbar": {
             "outlinewidth": 0,
             "ticks": ""
            },
            "type": "choropleth"
           }
          ],
          "contour": [
           {
            "colorbar": {
             "outlinewidth": 0,
             "ticks": ""
            },
            "colorscale": [
             [
              0,
              "#0d0887"
             ],
             [
              0.1111111111111111,
              "#46039f"
             ],
             [
              0.2222222222222222,
              "#7201a8"
             ],
             [
              0.3333333333333333,
              "#9c179e"
             ],
             [
              0.4444444444444444,
              "#bd3786"
             ],
             [
              0.5555555555555556,
              "#d8576b"
             ],
             [
              0.6666666666666666,
              "#ed7953"
             ],
             [
              0.7777777777777778,
              "#fb9f3a"
             ],
             [
              0.8888888888888888,
              "#fdca26"
             ],
             [
              1,
              "#f0f921"
             ]
            ],
            "type": "contour"
           }
          ],
          "contourcarpet": [
           {
            "colorbar": {
             "outlinewidth": 0,
             "ticks": ""
            },
            "type": "contourcarpet"
           }
          ],
          "heatmap": [
           {
            "colorbar": {
             "outlinewidth": 0,
             "ticks": ""
            },
            "colorscale": [
             [
              0,
              "#0d0887"
             ],
             [
              0.1111111111111111,
              "#46039f"
             ],
             [
              0.2222222222222222,
              "#7201a8"
             ],
             [
              0.3333333333333333,
              "#9c179e"
             ],
             [
              0.4444444444444444,
              "#bd3786"
             ],
             [
              0.5555555555555556,
              "#d8576b"
             ],
             [
              0.6666666666666666,
              "#ed7953"
             ],
             [
              0.7777777777777778,
              "#fb9f3a"
             ],
             [
              0.8888888888888888,
              "#fdca26"
             ],
             [
              1,
              "#f0f921"
             ]
            ],
            "type": "heatmap"
           }
          ],
          "heatmapgl": [
           {
            "colorbar": {
             "outlinewidth": 0,
             "ticks": ""
            },
            "colorscale": [
             [
              0,
              "#0d0887"
             ],
             [
              0.1111111111111111,
              "#46039f"
             ],
             [
              0.2222222222222222,
              "#7201a8"
             ],
             [
              0.3333333333333333,
              "#9c179e"
             ],
             [
              0.4444444444444444,
              "#bd3786"
             ],
             [
              0.5555555555555556,
              "#d8576b"
             ],
             [
              0.6666666666666666,
              "#ed7953"
             ],
             [
              0.7777777777777778,
              "#fb9f3a"
             ],
             [
              0.8888888888888888,
              "#fdca26"
             ],
             [
              1,
              "#f0f921"
             ]
            ],
            "type": "heatmapgl"
           }
          ],
          "histogram": [
           {
            "marker": {
             "pattern": {
              "fillmode": "overlay",
              "size": 10,
              "solidity": 0.2
             }
            },
            "type": "histogram"
           }
          ],
          "histogram2d": [
           {
            "colorbar": {
             "outlinewidth": 0,
             "ticks": ""
            },
            "colorscale": [
             [
              0,
              "#0d0887"
             ],
             [
              0.1111111111111111,
              "#46039f"
             ],
             [
              0.2222222222222222,
              "#7201a8"
             ],
             [
              0.3333333333333333,
              "#9c179e"
             ],
             [
              0.4444444444444444,
              "#bd3786"
             ],
             [
              0.5555555555555556,
              "#d8576b"
             ],
             [
              0.6666666666666666,
              "#ed7953"
             ],
             [
              0.7777777777777778,
              "#fb9f3a"
             ],
             [
              0.8888888888888888,
              "#fdca26"
             ],
             [
              1,
              "#f0f921"
             ]
            ],
            "type": "histogram2d"
           }
          ],
          "histogram2dcontour": [
           {
            "colorbar": {
             "outlinewidth": 0,
             "ticks": ""
            },
            "colorscale": [
             [
              0,
              "#0d0887"
             ],
             [
              0.1111111111111111,
              "#46039f"
             ],
             [
              0.2222222222222222,
              "#7201a8"
             ],
             [
              0.3333333333333333,
              "#9c179e"
             ],
             [
              0.4444444444444444,
              "#bd3786"
             ],
             [
              0.5555555555555556,
              "#d8576b"
             ],
             [
              0.6666666666666666,
              "#ed7953"
             ],
             [
              0.7777777777777778,
              "#fb9f3a"
             ],
             [
              0.8888888888888888,
              "#fdca26"
             ],
             [
              1,
              "#f0f921"
             ]
            ],
            "type": "histogram2dcontour"
           }
          ],
          "mesh3d": [
           {
            "colorbar": {
             "outlinewidth": 0,
             "ticks": ""
            },
            "type": "mesh3d"
           }
          ],
          "parcoords": [
           {
            "line": {
             "colorbar": {
              "outlinewidth": 0,
              "ticks": ""
             }
            },
            "type": "parcoords"
           }
          ],
          "pie": [
           {
            "automargin": true,
            "type": "pie"
           }
          ],
          "scatter": [
           {
            "fillpattern": {
             "fillmode": "overlay",
             "size": 10,
             "solidity": 0.2
            },
            "type": "scatter"
           }
          ],
          "scatter3d": [
           {
            "line": {
             "colorbar": {
              "outlinewidth": 0,
              "ticks": ""
             }
            },
            "marker": {
             "colorbar": {
              "outlinewidth": 0,
              "ticks": ""
             }
            },
            "type": "scatter3d"
           }
          ],
          "scattercarpet": [
           {
            "marker": {
             "colorbar": {
              "outlinewidth": 0,
              "ticks": ""
             }
            },
            "type": "scattercarpet"
           }
          ],
          "scattergeo": [
           {
            "marker": {
             "colorbar": {
              "outlinewidth": 0,
              "ticks": ""
             }
            },
            "type": "scattergeo"
           }
          ],
          "scattergl": [
           {
            "marker": {
             "colorbar": {
              "outlinewidth": 0,
              "ticks": ""
             }
            },
            "type": "scattergl"
           }
          ],
          "scattermapbox": [
           {
            "marker": {
             "colorbar": {
              "outlinewidth": 0,
              "ticks": ""
             }
            },
            "type": "scattermapbox"
           }
          ],
          "scatterpolar": [
           {
            "marker": {
             "colorbar": {
              "outlinewidth": 0,
              "ticks": ""
             }
            },
            "type": "scatterpolar"
           }
          ],
          "scatterpolargl": [
           {
            "marker": {
             "colorbar": {
              "outlinewidth": 0,
              "ticks": ""
             }
            },
            "type": "scatterpolargl"
           }
          ],
          "scatterternary": [
           {
            "marker": {
             "colorbar": {
              "outlinewidth": 0,
              "ticks": ""
             }
            },
            "type": "scatterternary"
           }
          ],
          "surface": [
           {
            "colorbar": {
             "outlinewidth": 0,
             "ticks": ""
            },
            "colorscale": [
             [
              0,
              "#0d0887"
             ],
             [
              0.1111111111111111,
              "#46039f"
             ],
             [
              0.2222222222222222,
              "#7201a8"
             ],
             [
              0.3333333333333333,
              "#9c179e"
             ],
             [
              0.4444444444444444,
              "#bd3786"
             ],
             [
              0.5555555555555556,
              "#d8576b"
             ],
             [
              0.6666666666666666,
              "#ed7953"
             ],
             [
              0.7777777777777778,
              "#fb9f3a"
             ],
             [
              0.8888888888888888,
              "#fdca26"
             ],
             [
              1,
              "#f0f921"
             ]
            ],
            "type": "surface"
           }
          ],
          "table": [
           {
            "cells": {
             "fill": {
              "color": "#EBF0F8"
             },
             "line": {
              "color": "white"
             }
            },
            "header": {
             "fill": {
              "color": "#C8D4E3"
             },
             "line": {
              "color": "white"
             }
            },
            "type": "table"
           }
          ]
         },
         "layout": {
          "annotationdefaults": {
           "arrowcolor": "#2a3f5f",
           "arrowhead": 0,
           "arrowwidth": 1
          },
          "autotypenumbers": "strict",
          "coloraxis": {
           "colorbar": {
            "outlinewidth": 0,
            "ticks": ""
           }
          },
          "colorscale": {
           "diverging": [
            [
             0,
             "#8e0152"
            ],
            [
             0.1,
             "#c51b7d"
            ],
            [
             0.2,
             "#de77ae"
            ],
            [
             0.3,
             "#f1b6da"
            ],
            [
             0.4,
             "#fde0ef"
            ],
            [
             0.5,
             "#f7f7f7"
            ],
            [
             0.6,
             "#e6f5d0"
            ],
            [
             0.7,
             "#b8e186"
            ],
            [
             0.8,
             "#7fbc41"
            ],
            [
             0.9,
             "#4d9221"
            ],
            [
             1,
             "#276419"
            ]
           ],
           "sequential": [
            [
             0,
             "#0d0887"
            ],
            [
             0.1111111111111111,
             "#46039f"
            ],
            [
             0.2222222222222222,
             "#7201a8"
            ],
            [
             0.3333333333333333,
             "#9c179e"
            ],
            [
             0.4444444444444444,
             "#bd3786"
            ],
            [
             0.5555555555555556,
             "#d8576b"
            ],
            [
             0.6666666666666666,
             "#ed7953"
            ],
            [
             0.7777777777777778,
             "#fb9f3a"
            ],
            [
             0.8888888888888888,
             "#fdca26"
            ],
            [
             1,
             "#f0f921"
            ]
           ],
           "sequentialminus": [
            [
             0,
             "#0d0887"
            ],
            [
             0.1111111111111111,
             "#46039f"
            ],
            [
             0.2222222222222222,
             "#7201a8"
            ],
            [
             0.3333333333333333,
             "#9c179e"
            ],
            [
             0.4444444444444444,
             "#bd3786"
            ],
            [
             0.5555555555555556,
             "#d8576b"
            ],
            [
             0.6666666666666666,
             "#ed7953"
            ],
            [
             0.7777777777777778,
             "#fb9f3a"
            ],
            [
             0.8888888888888888,
             "#fdca26"
            ],
            [
             1,
             "#f0f921"
            ]
           ]
          },
          "colorway": [
           "#636efa",
           "#EF553B",
           "#00cc96",
           "#ab63fa",
           "#FFA15A",
           "#19d3f3",
           "#FF6692",
           "#B6E880",
           "#FF97FF",
           "#FECB52"
          ],
          "font": {
           "color": "#2a3f5f"
          },
          "geo": {
           "bgcolor": "white",
           "lakecolor": "white",
           "landcolor": "#E5ECF6",
           "showlakes": true,
           "showland": true,
           "subunitcolor": "white"
          },
          "hoverlabel": {
           "align": "left"
          },
          "hovermode": "closest",
          "mapbox": {
           "style": "light"
          },
          "paper_bgcolor": "white",
          "plot_bgcolor": "#E5ECF6",
          "polar": {
           "angularaxis": {
            "gridcolor": "white",
            "linecolor": "white",
            "ticks": ""
           },
           "bgcolor": "#E5ECF6",
           "radialaxis": {
            "gridcolor": "white",
            "linecolor": "white",
            "ticks": ""
           }
          },
          "scene": {
           "xaxis": {
            "backgroundcolor": "#E5ECF6",
            "gridcolor": "white",
            "gridwidth": 2,
            "linecolor": "white",
            "showbackground": true,
            "ticks": "",
            "zerolinecolor": "white"
           },
           "yaxis": {
            "backgroundcolor": "#E5ECF6",
            "gridcolor": "white",
            "gridwidth": 2,
            "linecolor": "white",
            "showbackground": true,
            "ticks": "",
            "zerolinecolor": "white"
           },
           "zaxis": {
            "backgroundcolor": "#E5ECF6",
            "gridcolor": "white",
            "gridwidth": 2,
            "linecolor": "white",
            "showbackground": true,
            "ticks": "",
            "zerolinecolor": "white"
           }
          },
          "shapedefaults": {
           "line": {
            "color": "#2a3f5f"
           }
          },
          "ternary": {
           "aaxis": {
            "gridcolor": "white",
            "linecolor": "white",
            "ticks": ""
           },
           "baxis": {
            "gridcolor": "white",
            "linecolor": "white",
            "ticks": ""
           },
           "bgcolor": "#E5ECF6",
           "caxis": {
            "gridcolor": "white",
            "linecolor": "white",
            "ticks": ""
           }
          },
          "title": {
           "x": 0.05
          },
          "xaxis": {
           "automargin": true,
           "gridcolor": "white",
           "linecolor": "white",
           "ticks": "",
           "title": {
            "standoff": 15
           },
           "zerolinecolor": "white",
           "zerolinewidth": 2
          },
          "yaxis": {
           "automargin": true,
           "gridcolor": "white",
           "linecolor": "white",
           "ticks": "",
           "title": {
            "standoff": 15
           },
           "zerolinecolor": "white",
           "zerolinewidth": 2
          }
         }
        },
        "width": 1400
       }
      }
     },
     "metadata": {},
     "output_type": "display_data"
    }
   ],
   "source": [
    "import numpy as np\n",
    "def display_types_radar_charts(df: pd.DataFrame) -> None:\n",
    "    \"\"\"\n",
    "    Affiche un radar chart représentant les statistiques moyennes des Pokémon par type.\n",
    "\n",
    "    @param df: Le DataFrame contenant les données à afficher.\n",
    "    \"\"\"\n",
    "    types_attack=df.groupby('Primary Type')['Attack'].mean()\n",
    "    types_defense=df.groupby('Primary Type')['Defense'].mean()\n",
    "    types_hp=df.groupby('Primary Type')['HP'].mean()\n",
    "    type_name=types_attack.index.tolist()\n",
    "    type_value_attack=types_attack.values.tolist()\n",
    "    type_value_defense=types_defense.values.tolist()\n",
    "    type_value_hp=types_hp.values.tolist()\n",
    "\n",
    "\n",
    "    fig = make_subplots(rows=1, cols=3, subplot_titles=(\"Attack\", \"Defense\", \"HP\"),\n",
    "                        specs=[[{'type':'polar'}]*3])\n",
    "   \n",
    "    fig.add_trace(go.Scatterpolar(\n",
    "        r=type_value_attack,\n",
    "        theta=type_name,\n",
    "        fill='toself',\n",
    "        name='Attack',\n",
    "        line=dict(color='blue')\n",
    "    ), row=1, col=1)\n",
    "\n",
    "\n",
    "    fig.add_trace(go.Scatterpolar(\n",
    "        r=type_value_defense,\n",
    "        theta=type_name,\n",
    "        fill='toself',\n",
    "        name='Defense',\n",
    "        line=dict(color='red')\n",
    "    ), row=1, col=2)\n",
    "\n",
    "\n",
    "    fig.add_trace(go.Scatterpolar(\n",
    "        r=type_value_hp,\n",
    "        theta=type_name,\n",
    "        fill='toself',\n",
    "        name='HP',\n",
    "        line=dict(color='green')\n",
    "    ), row=1, col=3)\n",
    "\n",
    "\n",
    "    fig.update_layout(\n",
    "        polar=dict(\n",
    "            radialaxis=dict(\n",
    "                visible=True,\n",
    "                range=[0, max(max(type_value_attack), max(type_value_defense), max(type_value_hp))]\n",
    "            )\n",
    "        ),\n",
    "        showlegend=True, height=600, width=1400)\n",
    "    fig.show()\n",
    "    pass\n",
    "\n",
    "display_types_radar_charts(pokedex)"
   ]
  },
  {
   "cell_type": "markdown",
   "metadata": {},
   "source": []
  },
  {
   "cell_type": "markdown",
   "metadata": {},
   "source": [
    "## Filtrage, tri et agrégation"
   ]
  },
  {
   "cell_type": "markdown",
   "metadata": {},
   "source": [
    "### 1.10 Le Panthéon des Spécialistes"
   ]
  },
  {
   "cell_type": "code",
   "execution_count": 37,
   "metadata": {},
   "outputs": [
    {
     "name": "stdout",
     "output_type": "stream",
     "text": [
      "Meilleurs Pokemon pour Attack\n"
     ]
    },
    {
     "data": {
      "text/html": [
       "<div>\n",
       "<style scoped>\n",
       "    .dataframe tbody tr th:only-of-type {\n",
       "        vertical-align: middle;\n",
       "    }\n",
       "\n",
       "    .dataframe tbody tr th {\n",
       "        vertical-align: top;\n",
       "    }\n",
       "\n",
       "    .dataframe thead th {\n",
       "        text-align: right;\n",
       "    }\n",
       "</style>\n",
       "<table border=\"1\" class=\"dataframe\">\n",
       "  <thead>\n",
       "    <tr style=\"text-align: right;\">\n",
       "      <th></th>\n",
       "      <th>Name</th>\n",
       "      <th>Attack</th>\n",
       "    </tr>\n",
       "    <tr>\n",
       "      <th></th>\n",
       "      <th></th>\n",
       "      <th></th>\n",
       "    </tr>\n",
       "  </thead>\n",
       "  <tbody>\n",
       "    <tr>\n",
       "      <th>1</th>\n",
       "      <td>Heracross</td>\n",
       "      <td>185</td>\n",
       "    </tr>\n",
       "    <tr>\n",
       "      <th>2</th>\n",
       "      <td>Kartana</td>\n",
       "      <td>181</td>\n",
       "    </tr>\n",
       "    <tr>\n",
       "      <th>3</th>\n",
       "      <td>Groudon</td>\n",
       "      <td>180</td>\n",
       "    </tr>\n",
       "    <tr>\n",
       "      <th>4</th>\n",
       "      <td>Rayquaza</td>\n",
       "      <td>180</td>\n",
       "    </tr>\n",
       "    <tr>\n",
       "      <th>5</th>\n",
       "      <td>Garchomp</td>\n",
       "      <td>170</td>\n",
       "    </tr>\n",
       "  </tbody>\n",
       "</table>\n",
       "</div>"
      ],
      "text/plain": [
       "        Name  Attack\n",
       "                    \n",
       "1  Heracross     185\n",
       "2    Kartana     181\n",
       "3    Groudon     180\n",
       "4   Rayquaza     180\n",
       "5   Garchomp     170"
      ]
     },
     "metadata": {},
     "output_type": "display_data"
    },
    {
     "name": "stdout",
     "output_type": "stream",
     "text": [
      "Meilleurs Pokemon pour Defense\n"
     ]
    },
    {
     "data": {
      "text/html": [
       "<div>\n",
       "<style scoped>\n",
       "    .dataframe tbody tr th:only-of-type {\n",
       "        vertical-align: middle;\n",
       "    }\n",
       "\n",
       "    .dataframe tbody tr th {\n",
       "        vertical-align: top;\n",
       "    }\n",
       "\n",
       "    .dataframe thead th {\n",
       "        text-align: right;\n",
       "    }\n",
       "</style>\n",
       "<table border=\"1\" class=\"dataframe\">\n",
       "  <thead>\n",
       "    <tr style=\"text-align: right;\">\n",
       "      <th></th>\n",
       "      <th>Name</th>\n",
       "      <th>Defense</th>\n",
       "    </tr>\n",
       "    <tr>\n",
       "      <th></th>\n",
       "      <th></th>\n",
       "      <th></th>\n",
       "    </tr>\n",
       "  </thead>\n",
       "  <tbody>\n",
       "    <tr>\n",
       "      <th>1</th>\n",
       "      <td>Steelix</td>\n",
       "      <td>230</td>\n",
       "    </tr>\n",
       "    <tr>\n",
       "      <th>2</th>\n",
       "      <td>Shuckle</td>\n",
       "      <td>230</td>\n",
       "    </tr>\n",
       "    <tr>\n",
       "      <th>3</th>\n",
       "      <td>Aggron</td>\n",
       "      <td>230</td>\n",
       "    </tr>\n",
       "    <tr>\n",
       "      <th>4</th>\n",
       "      <td>Regirock</td>\n",
       "      <td>200</td>\n",
       "    </tr>\n",
       "    <tr>\n",
       "      <th>5</th>\n",
       "      <td>Avalugg</td>\n",
       "      <td>184</td>\n",
       "    </tr>\n",
       "  </tbody>\n",
       "</table>\n",
       "</div>"
      ],
      "text/plain": [
       "       Name  Defense\n",
       "                    \n",
       "1   Steelix      230\n",
       "2   Shuckle      230\n",
       "3    Aggron      230\n",
       "4  Regirock      200\n",
       "5   Avalugg      184"
      ]
     },
     "metadata": {},
     "output_type": "display_data"
    },
    {
     "name": "stdout",
     "output_type": "stream",
     "text": [
      "Meilleurs Pokemon pour HP\n"
     ]
    },
    {
     "data": {
      "text/html": [
       "<div>\n",
       "<style scoped>\n",
       "    .dataframe tbody tr th:only-of-type {\n",
       "        vertical-align: middle;\n",
       "    }\n",
       "\n",
       "    .dataframe tbody tr th {\n",
       "        vertical-align: top;\n",
       "    }\n",
       "\n",
       "    .dataframe thead th {\n",
       "        text-align: right;\n",
       "    }\n",
       "</style>\n",
       "<table border=\"1\" class=\"dataframe\">\n",
       "  <thead>\n",
       "    <tr style=\"text-align: right;\">\n",
       "      <th></th>\n",
       "      <th>Name</th>\n",
       "      <th>HP</th>\n",
       "    </tr>\n",
       "    <tr>\n",
       "      <th></th>\n",
       "      <th></th>\n",
       "      <th></th>\n",
       "    </tr>\n",
       "  </thead>\n",
       "  <tbody>\n",
       "    <tr>\n",
       "      <th>1</th>\n",
       "      <td>Blissey</td>\n",
       "      <td>255</td>\n",
       "    </tr>\n",
       "    <tr>\n",
       "      <th>2</th>\n",
       "      <td>Chansey</td>\n",
       "      <td>250</td>\n",
       "    </tr>\n",
       "    <tr>\n",
       "      <th>3</th>\n",
       "      <td>Guzzlord</td>\n",
       "      <td>223</td>\n",
       "    </tr>\n",
       "    <tr>\n",
       "      <th>4</th>\n",
       "      <td>Zygarde</td>\n",
       "      <td>216</td>\n",
       "    </tr>\n",
       "    <tr>\n",
       "      <th>5</th>\n",
       "      <td>Wobbuffet</td>\n",
       "      <td>190</td>\n",
       "    </tr>\n",
       "  </tbody>\n",
       "</table>\n",
       "</div>"
      ],
      "text/plain": [
       "        Name   HP\n",
       "                 \n",
       "1    Blissey  255\n",
       "2    Chansey  250\n",
       "3   Guzzlord  223\n",
       "4    Zygarde  216\n",
       "5  Wobbuffet  190"
      ]
     },
     "metadata": {},
     "output_type": "display_data"
    },
    {
     "name": "stdout",
     "output_type": "stream",
     "text": [
      "Meilleurs Pokemon pour Speed\n"
     ]
    },
    {
     "data": {
      "text/html": [
       "<div>\n",
       "<style scoped>\n",
       "    .dataframe tbody tr th:only-of-type {\n",
       "        vertical-align: middle;\n",
       "    }\n",
       "\n",
       "    .dataframe tbody tr th {\n",
       "        vertical-align: top;\n",
       "    }\n",
       "\n",
       "    .dataframe thead th {\n",
       "        text-align: right;\n",
       "    }\n",
       "</style>\n",
       "<table border=\"1\" class=\"dataframe\">\n",
       "  <thead>\n",
       "    <tr style=\"text-align: right;\">\n",
       "      <th></th>\n",
       "      <th>Name</th>\n",
       "      <th>Speed</th>\n",
       "    </tr>\n",
       "    <tr>\n",
       "      <th></th>\n",
       "      <th></th>\n",
       "      <th></th>\n",
       "    </tr>\n",
       "  </thead>\n",
       "  <tbody>\n",
       "    <tr>\n",
       "      <th>1</th>\n",
       "      <td>Deoxys</td>\n",
       "      <td>180</td>\n",
       "    </tr>\n",
       "    <tr>\n",
       "      <th>2</th>\n",
       "      <td>Ninjask</td>\n",
       "      <td>160</td>\n",
       "    </tr>\n",
       "    <tr>\n",
       "      <th>3</th>\n",
       "      <td>Pheromosa</td>\n",
       "      <td>151</td>\n",
       "    </tr>\n",
       "    <tr>\n",
       "      <th>4</th>\n",
       "      <td>Alakazam</td>\n",
       "      <td>150</td>\n",
       "    </tr>\n",
       "    <tr>\n",
       "      <th>5</th>\n",
       "      <td>Electrode</td>\n",
       "      <td>150</td>\n",
       "    </tr>\n",
       "  </tbody>\n",
       "</table>\n",
       "</div>"
      ],
      "text/plain": [
       "        Name  Speed\n",
       "                   \n",
       "1     Deoxys    180\n",
       "2    Ninjask    160\n",
       "3  Pheromosa    151\n",
       "4   Alakazam    150\n",
       "5  Electrode    150"
      ]
     },
     "metadata": {},
     "output_type": "display_data"
    }
   ],
   "source": [
    "from IPython.display import display\n",
    "\n",
    "def display_best_pokemon(df: pd.DataFrame) -> None:\n",
    "    \"\"\"\n",
    "    Affiche les 5 meilleurs Pokémon pour chaque statistique (voir README.md).\n",
    "\n",
    "    @param df: Le DataFrame contenant les données à afficher.\n",
    "    \"\"\"\n",
    "    meilleur_attack = df[['Name', 'Attack']].nlargest(5, 'Attack')\n",
    "    meilleur_defense = df[['Name', 'Defense']].nlargest(5, 'Defense')\n",
    "    meilleur_HP = df[['Name', 'HP']].nlargest(5, 'HP')\n",
    "    meilleur_speed = df[['Name', 'Speed']].nlargest(5, 'Speed')\n",
    "\n",
    "\n",
    "    meilleur_attack.insert(0, '', range(1, len(meilleur_attack)+1))\n",
    "    meilleur_defense.insert(0, '', range(1, len(meilleur_defense)+1))\n",
    "    meilleur_HP.insert(0, '', range(1, len(meilleur_HP)+1))\n",
    "    meilleur_speed.insert(0, '', range(1, len(meilleur_speed)+1))\n",
    "\n",
    "\n",
    "   \n",
    "    print(\"Meilleurs Pokemon pour Attack\")\n",
    "    display(meilleur_attack.set_index('', drop=True))\n",
    "   \n",
    "    print(\"Meilleurs Pokemon pour Defense\")\n",
    "    display(meilleur_defense.set_index('', drop=True))\n",
    "   \n",
    "    print(\"Meilleurs Pokemon pour HP\")\n",
    "    display(meilleur_HP.set_index('', drop=True))\n",
    "   \n",
    "    print(\"Meilleurs Pokemon pour Speed\")\n",
    "    display(meilleur_speed.set_index('', drop=True))\n",
    "    pass\n",
    "\n",
    "display_best_pokemon(pokedex)"
   ]
  },
  {
   "cell_type": "markdown",
   "metadata": {},
   "source": [
    "### 1.11 Les Liens Invisibles\n"
   ]
  },
  {
   "cell_type": "code",
   "execution_count": 38,
   "metadata": {},
   "outputs": [
    {
     "data": {
      "image/png": "[encoded data removed]",
      "text/plain": [
       "<Figure size 640x480 with 2 Axes>"
      ]
     },
     "metadata": {},
     "output_type": "display_data"
    }
   ],
   "source": [
    "def display_stats_heatmap(df: pd.DataFrame) -> None:\n",
    "    \"\"\"\n",
    "    Affiche une heatmap représentant la matrice de corrélation entre les statistiques des Pokémon.\n",
    "\n",
    "    @param df: Le DataFrame contenant les données à afficher.\n",
    "    \"\"\"\n",
    "    colonne = [\"Attack\", \"Defense\", \"Speed\", \"HP\", \"Weight\", \"Height\"]\n",
    "    matrice = df[colonne].corr()\n",
    "    couleur = sns.color_palette(\"crest\")\n",
    "    sns.heatmap(matrice, square=True, linewidths=.5, cbar_kws={\"shrink\": .5}, annot =True, cmap = couleur)\n",
    "    plt.title(\"Matrice de Covariance des Statistiques des Pokémon\")\n",
    "    plt.show\n",
    "\n",
    "    pass\n",
    "\n",
    "display_stats_heatmap(pokedex)"
   ]
  },
  {
   "cell_type": "markdown",
   "metadata": {},
   "source": [
    "### 1.12 Exploration Créative (Bonus)"
   ]
  },
  {
   "cell_type": "code",
   "execution_count": 39,
   "metadata": {},
   "outputs": [],
   "source": [
    "def display_my_unique_visualization(df: pd.DataFrame) -> None:\n",
    "    \"\"\"\n",
    "    #TODO: Décrire ce que cette fonction est censée afficher,\n",
    "\n",
    "    #TODO: Expliquer brièvement comment cette visualisation pourrait être utilisée pour guider ou informer un dresseur dans ses aventures.\n",
    "    \"\"\"\n",
    "    pass\n",
    "\n",
    "display_my_unique_visualization(pokedex)"
   ]
  }
 ],
 "metadata": {
  "kernelspec": {
   "display_name": "venv",
   "language": "python",
   "name": "python3"
  },
  "language_info": {
   "codemirror_mode": {
    "name": "ipython",
    "version": 3
   },
   "file_extension": ".py",
   "mimetype": "text/x-python",
   "name": "python",
   "nbconvert_exporter": "python",
   "pygments_lexer": "ipython3",
   "version": "3.11.5"
  }
 },
 "nbformat": 4,
 "nbformat_minor": 2
}
